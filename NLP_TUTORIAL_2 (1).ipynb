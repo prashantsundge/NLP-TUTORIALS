{
  "nbformat": 4,
  "nbformat_minor": 0,
  "metadata": {
    "colab": {
      "provenance": []
    },
    "kernelspec": {
      "name": "python3",
      "display_name": "Python 3"
    },
    "language_info": {
      "name": "python"
    }
  },
  "cells": [
    {
      "cell_type": "markdown",
      "source": [
        "# <div style=\"text-align: right; color: #4CAF50;\">NLP TUTORIAL PART 2</div>\n",
        "### <div style=\"text-align: right; color: #4CAF50;\">By Prashant Sundge</div>\n",
        "\n",
        "[[NLP TUTORIAL PART 1](https://www.linkedin.com/posts/prashantsundge_nlp-training-activity-7183136678973243392-2gYY?utm_source=share&utm_medium=member_desktop)](https://www.linkedin.com/posts/prashantsundge_nlp-training-activity-7183136678973243392-2gYY?utm_source=share&utm_medium=member_desktop)\n",
        "\n",
        "- [Kaggle : Prashant Kumar Sundge](https://www.kaggle.com/prashantkumarsundge)\n",
        "- [Github : prashantsundge](https://github.com/prashantsundge)\n",
        "- [Linked In : prashantsundge](https://www.linkedin.com/in/prashantsundge/)\n"
      ],
      "metadata": {
        "id": "WNMdveKLP5rR"
      }
    },
    {
      "cell_type": "markdown",
      "source": [
        "# Colab Markdown Index\n",
        "\n",
        "## 1. [BAG OF WORDS](#bag-of-words)\n",
        "- 1.1 [Tokenization](#tokenization)\n",
        "- 1.2 [Vocabulary](#vocabulary)\n",
        "- 1.3 [Vectorization](#vectorization)\n",
        "  - 1.3.1 [Code with Examples](#code-with-examples)\n",
        "- 1.4 [Pros and Cons of Bag of Words (BoW) Model](#pros-and-cons-of-bag-of-words-bow-model)\n",
        "\n",
        "## 2. [BAG OF WORDS HYPERPARAMETERS](#bag-of-words-hyperparameters)\n",
        "- 2.1 [N-grams](#n-grams)\n",
        "  - 2.1.1 [Unigrams](#unigrams)\n",
        "  - 2.1.2 [Bigrams](#bigrams)\n",
        "  - 2.1.3 [Trigrams](#trigrams)\n",
        "- 2.2 [Pros and Cons of N-grams in Natural Language Processing (NLP)](#pros-and-cons-of-n-grams-in-natural-language-processing-nlp)\n",
        "\n",
        "## 3. [TF-IDF](#tf-idf)\n",
        "- 3.1 [Code Examples](#code-examples)\n",
        "- 3.2 [TF-IDF Pros and Cons](#tf-idf-pros-and-cons)\n",
        "\n",
        "## 4. [Custom Features in Natural Language Processing (NLP)](#custom-features-in-natural-language-processing-nlp)\n",
        "\n",
        "## 5. [Mini Project IMDB Dataset of 50K Movie Reviews](#mini-project-imdb-dataset-of-50k-movie-reviews)\n",
        "- 5.1 [Define library](#define-library)\n",
        "- 5.2 [Dataset Download from Gdrive](#dataset-download-from-gdrive)\n",
        "- 5.3 [LOAD DATA](#load-data)\n",
        "- 5.4 [UNDERSTAND DISTRIBUTION OF OUTPUT COLUMN](#understand-distribution-of-output-column)\n",
        "\n",
        "## 6. [Data Preprocessing](#data-preprocessing)\n",
        "- 6.1 [DESCRIBE, HEAD, ISNULL, INFO, DUPLICATE](#describe-head-isnull-info-duplicate)\n",
        "- 6.2 [BEFORE PROCESSING WILL UNDERSTAND THE DATASET BY FOLLOWING QUESTIONS](#before-processing-will-understand-the-dataset-by-following-questions)\n",
        "  - 6.2.1 [Find out the Corpus total size?](#find-out-the-corpus-total-size)\n",
        "  - 6.2.2 [Find out the document char size and word size?](#find-out-the-document-char-size-and-word-size)\n",
        "  - 6.2.3 [Find out the bigrams and trigrams?](#find-out-the-bigrams-and-trigrams)\n",
        "  - 6.2.4 [Find out the vocabulary?](#find-out-the-vocabulary)\n",
        "\n",
        "## 7. [NLP Preprocessing Workflow Index](#nlp-preprocessing-workflow-index)\n",
        "- 7.1 [Inspecting Data](#inspecting-data)\n",
        "- 7.2 [Cleaning](#cleaning)\n",
        "  - 7.2.1 [First Will Clean the Data Using Regular Expression](#first-will-clean-the-data-using-regular-expression)\n",
        "    - 7.2.1.1 [HTML Tag Removal](#html-tag-removal)\n",
        "    - 7.2.1.2 [Emoji Removal](#emoji-removal)\n",
        "    - 7.2.1.3 [Lowercasing](#lowercasing)\n",
        "    - 7.2.1.4 [Text Analyzer](#text-analyzer)\n",
        "    - 7.2.1.5 [Spelling Correction (PySpellchecker, TextBlob)](#spelling-correction-pyspellchecker-textblob)\n",
        "- 7.3 [Difference between PySpellChecker and TextBlob](#difference-between-pyspellchecker-and-textblob)\n",
        "- 7.4 [Basic Preprocessing](#basic-preprocessing)\n",
        "  - 7.4.1 [Tokenization](#tokenization-1)\n",
        "    - 7.4.1.1 [Sentence Tokenization](#sentence-tokenization)\n",
        "    - 7.4.1.2 [Word Tokenization](#word-tokenization)\n",
        "- 7.5 [Advance Preprocessing](#advance-preprocessing)\n",
        "  - 7.5.1 [Stopwords Removal](#stopwords-removal)\n",
        "  - 7.5.2 [Stemming](#stemming)\n",
        "  - 7.5.3 [Stemming Vs Lemmatization](#stemming-vs-lemmatization)\n",
        "  - 7.5.4 [Lemmatization](#lemmatization)\n",
        "  - 7.5.5 [Remove Digits and Punctuation](#remove-digits-and-punctuation)\n",
        "- 7.6 [Frequency Distribution](#frequency-distribution)\n",
        "- 7.7 [Language Detection](#language-detection)\n",
        "\n",
        "## 8. [Model Building](#model-building)\n",
        "- 8.1 [LABEL ENCODING FOR TARGET](#label-encoding-for-target)\n",
        "- 8.2 [Multinomial Naive based algorithm](#multinomial-naive-based-algorithm)\n",
        "- 8.3 [Bag of Words](#bag-of-words-1)\n",
        "- 8.4 [Train-test split](#train-test-split)\n",
        "- 8.5 [MODEL FIT](#model-fit)\n",
        "  - 8.5.1 [Model training](#model-training)\n",
        "  - 8.5.2 [Model evaluation](#model-evaluation)\n",
        "    - 8.5.2.1 [Accuracy, Precision, Recall, F1-score](#accuracy-precision-recall-f1-score)\n",
        "    - 8.5.2.2 [Confusion matrix](#confusion-matrix)\n"
      ],
      "metadata": {
        "id": "PAgUhJTdWwU3"
      }
    },
    {
      "cell_type": "markdown",
      "source": [
        "\n",
        "# BAG OF WORDS"
      ],
      "metadata": {
        "id": "Syl58-OsSScX"
      }
    },
    {
      "cell_type": "markdown",
      "source": [
        "\n",
        "---\n",
        "\n",
        "## Bag of Words (BoW) Approach\n",
        "\n",
        "The Bag of Words (BoW) is a simple yet powerful technique used in natural language processing (NLP) for text analysis and document classification. It represents a document as a collection of words, disregarding grammar and word order, and focuses solely on the presence or absence of words.\n",
        "\n",
        "### How BoW Works\n",
        "\n",
        "1. **Tokenization**: The first step is to tokenize the text, splitting it into individual words or tokens. Punctuation marks are typically removed during this process.\n",
        "\n",
        "2. **Vocabulary Creation**: Next, a vocabulary is created by collecting all unique words from the entire corpus of documents. Each word in the vocabulary is assigned a unique index.\n",
        "\n",
        "3. **Vectorization**: Each document is represented as a vector, where the length of the vector is equal to the size of the vocabulary. The value at each index represents the frequency of the corresponding word in the document. If a word appears multiple times in the document, its corresponding value will be higher.\n",
        "\n",
        "### Example\n",
        "\n",
        "Consider the following two documents:\n",
        "\n",
        "- Document 1: \"This is a very good movie.\"\n",
        "- Document 2: \"This is not a good movie.\"\n",
        "\n",
        "#### Step 1: Tokenization\n",
        "\n",
        "Tokenizing each document results in the following sets of words:\n",
        "\n",
        "- Document 1: { \"this\", \"is\", \"a\", \"very\", \"good\", \"movie\" }\n",
        "- Document 2: { \"this\", \"is\", \"not\", \"a\", \"good\", \"movie\" }\n",
        "\n",
        "#### Step 2: Vocabulary Creation\n",
        "\n",
        "Creating the vocabulary involves collecting all unique words from both documents:\n",
        "\n",
        "Vocabulary: { \"this\", \"is\", \"a\", \"very\", \"good\", \"movie\", \"not\" }\n",
        "\n",
        "#### Step 3: Vectorization\n",
        "\n",
        "Each document is represented as a vector based on the frequency of words in the vocabulary:\n",
        "\n",
        "- Document 1: [1, 1, 1, 1, 1, 1, 0]\n",
        "- Document 2: [1, 1, 1, 0, 1, 1, 1]\n",
        "\n",
        "In the vector representation, each position corresponds to a word in the vocabulary, and the value at each position indicates the frequency of that word in the document.\n",
        "\n",
        "\n",
        "---\n"
      ],
      "metadata": {
        "id": "TOgq83lUGxt6"
      }
    },
    {
      "cell_type": "code",
      "execution_count": null,
      "metadata": {
        "id": "KLKN6jYmRO--"
      },
      "outputs": [],
      "source": [
        "import numpy as np\n",
        "import pandas as pd"
      ]
    },
    {
      "cell_type": "code",
      "source": [
        "df=pd.DataFrame({'text':['people Watch movies','movies watch movies','people write comment','movies write comment'], 'output':[1,1,0,0]})"
      ],
      "metadata": {
        "id": "W2l0ZibUTjXn"
      },
      "execution_count": null,
      "outputs": []
    },
    {
      "cell_type": "code",
      "source": [
        "df"
      ],
      "metadata": {
        "colab": {
          "base_uri": "https://localhost:8080/",
          "height": 175
        },
        "id": "RTMYSETfT-0h",
        "outputId": "ad532d10-7b53-4231-a552-5b5f88cbdb42"
      },
      "execution_count": null,
      "outputs": [
        {
          "output_type": "execute_result",
          "data": {
            "text/plain": [
              "                   text  output\n",
              "0   people Watch movies       1\n",
              "1   movies watch movies       1\n",
              "2  people write comment       0\n",
              "3  movies write comment       0"
            ],
            "text/html": [
              "\n",
              "  <div id=\"df-6b6bbc81-2ef1-499e-9e22-a27f84a0d2fe\" class=\"colab-df-container\">\n",
              "    <div>\n",
              "<style scoped>\n",
              "    .dataframe tbody tr th:only-of-type {\n",
              "        vertical-align: middle;\n",
              "    }\n",
              "\n",
              "    .dataframe tbody tr th {\n",
              "        vertical-align: top;\n",
              "    }\n",
              "\n",
              "    .dataframe thead th {\n",
              "        text-align: right;\n",
              "    }\n",
              "</style>\n",
              "<table border=\"1\" class=\"dataframe\">\n",
              "  <thead>\n",
              "    <tr style=\"text-align: right;\">\n",
              "      <th></th>\n",
              "      <th>text</th>\n",
              "      <th>output</th>\n",
              "    </tr>\n",
              "  </thead>\n",
              "  <tbody>\n",
              "    <tr>\n",
              "      <th>0</th>\n",
              "      <td>people Watch movies</td>\n",
              "      <td>1</td>\n",
              "    </tr>\n",
              "    <tr>\n",
              "      <th>1</th>\n",
              "      <td>movies watch movies</td>\n",
              "      <td>1</td>\n",
              "    </tr>\n",
              "    <tr>\n",
              "      <th>2</th>\n",
              "      <td>people write comment</td>\n",
              "      <td>0</td>\n",
              "    </tr>\n",
              "    <tr>\n",
              "      <th>3</th>\n",
              "      <td>movies write comment</td>\n",
              "      <td>0</td>\n",
              "    </tr>\n",
              "  </tbody>\n",
              "</table>\n",
              "</div>\n",
              "    <div class=\"colab-df-buttons\">\n",
              "\n",
              "  <div class=\"colab-df-container\">\n",
              "    <button class=\"colab-df-convert\" onclick=\"convertToInteractive('df-6b6bbc81-2ef1-499e-9e22-a27f84a0d2fe')\"\n",
              "            title=\"Convert this dataframe to an interactive table.\"\n",
              "            style=\"display:none;\">\n",
              "\n",
              "  <svg xmlns=\"http://www.w3.org/2000/svg\" height=\"24px\" viewBox=\"0 -960 960 960\">\n",
              "    <path d=\"M120-120v-720h720v720H120Zm60-500h600v-160H180v160Zm220 220h160v-160H400v160Zm0 220h160v-160H400v160ZM180-400h160v-160H180v160Zm440 0h160v-160H620v160ZM180-180h160v-160H180v160Zm440 0h160v-160H620v160Z\"/>\n",
              "  </svg>\n",
              "    </button>\n",
              "\n",
              "  <style>\n",
              "    .colab-df-container {\n",
              "      display:flex;\n",
              "      gap: 12px;\n",
              "    }\n",
              "\n",
              "    .colab-df-convert {\n",
              "      background-color: #E8F0FE;\n",
              "      border: none;\n",
              "      border-radius: 50%;\n",
              "      cursor: pointer;\n",
              "      display: none;\n",
              "      fill: #1967D2;\n",
              "      height: 32px;\n",
              "      padding: 0 0 0 0;\n",
              "      width: 32px;\n",
              "    }\n",
              "\n",
              "    .colab-df-convert:hover {\n",
              "      background-color: #E2EBFA;\n",
              "      box-shadow: 0px 1px 2px rgba(60, 64, 67, 0.3), 0px 1px 3px 1px rgba(60, 64, 67, 0.15);\n",
              "      fill: #174EA6;\n",
              "    }\n",
              "\n",
              "    .colab-df-buttons div {\n",
              "      margin-bottom: 4px;\n",
              "    }\n",
              "\n",
              "    [theme=dark] .colab-df-convert {\n",
              "      background-color: #3B4455;\n",
              "      fill: #D2E3FC;\n",
              "    }\n",
              "\n",
              "    [theme=dark] .colab-df-convert:hover {\n",
              "      background-color: #434B5C;\n",
              "      box-shadow: 0px 1px 3px 1px rgba(0, 0, 0, 0.15);\n",
              "      filter: drop-shadow(0px 1px 2px rgba(0, 0, 0, 0.3));\n",
              "      fill: #FFFFFF;\n",
              "    }\n",
              "  </style>\n",
              "\n",
              "    <script>\n",
              "      const buttonEl =\n",
              "        document.querySelector('#df-6b6bbc81-2ef1-499e-9e22-a27f84a0d2fe button.colab-df-convert');\n",
              "      buttonEl.style.display =\n",
              "        google.colab.kernel.accessAllowed ? 'block' : 'none';\n",
              "\n",
              "      async function convertToInteractive(key) {\n",
              "        const element = document.querySelector('#df-6b6bbc81-2ef1-499e-9e22-a27f84a0d2fe');\n",
              "        const dataTable =\n",
              "          await google.colab.kernel.invokeFunction('convertToInteractive',\n",
              "                                                    [key], {});\n",
              "        if (!dataTable) return;\n",
              "\n",
              "        const docLinkHtml = 'Like what you see? Visit the ' +\n",
              "          '<a target=\"_blank\" href=https://colab.research.google.com/notebooks/data_table.ipynb>data table notebook</a>'\n",
              "          + ' to learn more about interactive tables.';\n",
              "        element.innerHTML = '';\n",
              "        dataTable['output_type'] = 'display_data';\n",
              "        await google.colab.output.renderOutput(dataTable, element);\n",
              "        const docLink = document.createElement('div');\n",
              "        docLink.innerHTML = docLinkHtml;\n",
              "        element.appendChild(docLink);\n",
              "      }\n",
              "    </script>\n",
              "  </div>\n",
              "\n",
              "\n",
              "<div id=\"df-08e34771-1acc-4f87-adb1-65d597e7a9b9\">\n",
              "  <button class=\"colab-df-quickchart\" onclick=\"quickchart('df-08e34771-1acc-4f87-adb1-65d597e7a9b9')\"\n",
              "            title=\"Suggest charts\"\n",
              "            style=\"display:none;\">\n",
              "\n",
              "<svg xmlns=\"http://www.w3.org/2000/svg\" height=\"24px\"viewBox=\"0 0 24 24\"\n",
              "     width=\"24px\">\n",
              "    <g>\n",
              "        <path d=\"M19 3H5c-1.1 0-2 .9-2 2v14c0 1.1.9 2 2 2h14c1.1 0 2-.9 2-2V5c0-1.1-.9-2-2-2zM9 17H7v-7h2v7zm4 0h-2V7h2v10zm4 0h-2v-4h2v4z\"/>\n",
              "    </g>\n",
              "</svg>\n",
              "  </button>\n",
              "\n",
              "<style>\n",
              "  .colab-df-quickchart {\n",
              "      --bg-color: #E8F0FE;\n",
              "      --fill-color: #1967D2;\n",
              "      --hover-bg-color: #E2EBFA;\n",
              "      --hover-fill-color: #174EA6;\n",
              "      --disabled-fill-color: #AAA;\n",
              "      --disabled-bg-color: #DDD;\n",
              "  }\n",
              "\n",
              "  [theme=dark] .colab-df-quickchart {\n",
              "      --bg-color: #3B4455;\n",
              "      --fill-color: #D2E3FC;\n",
              "      --hover-bg-color: #434B5C;\n",
              "      --hover-fill-color: #FFFFFF;\n",
              "      --disabled-bg-color: #3B4455;\n",
              "      --disabled-fill-color: #666;\n",
              "  }\n",
              "\n",
              "  .colab-df-quickchart {\n",
              "    background-color: var(--bg-color);\n",
              "    border: none;\n",
              "    border-radius: 50%;\n",
              "    cursor: pointer;\n",
              "    display: none;\n",
              "    fill: var(--fill-color);\n",
              "    height: 32px;\n",
              "    padding: 0;\n",
              "    width: 32px;\n",
              "  }\n",
              "\n",
              "  .colab-df-quickchart:hover {\n",
              "    background-color: var(--hover-bg-color);\n",
              "    box-shadow: 0 1px 2px rgba(60, 64, 67, 0.3), 0 1px 3px 1px rgba(60, 64, 67, 0.15);\n",
              "    fill: var(--button-hover-fill-color);\n",
              "  }\n",
              "\n",
              "  .colab-df-quickchart-complete:disabled,\n",
              "  .colab-df-quickchart-complete:disabled:hover {\n",
              "    background-color: var(--disabled-bg-color);\n",
              "    fill: var(--disabled-fill-color);\n",
              "    box-shadow: none;\n",
              "  }\n",
              "\n",
              "  .colab-df-spinner {\n",
              "    border: 2px solid var(--fill-color);\n",
              "    border-color: transparent;\n",
              "    border-bottom-color: var(--fill-color);\n",
              "    animation:\n",
              "      spin 1s steps(1) infinite;\n",
              "  }\n",
              "\n",
              "  @keyframes spin {\n",
              "    0% {\n",
              "      border-color: transparent;\n",
              "      border-bottom-color: var(--fill-color);\n",
              "      border-left-color: var(--fill-color);\n",
              "    }\n",
              "    20% {\n",
              "      border-color: transparent;\n",
              "      border-left-color: var(--fill-color);\n",
              "      border-top-color: var(--fill-color);\n",
              "    }\n",
              "    30% {\n",
              "      border-color: transparent;\n",
              "      border-left-color: var(--fill-color);\n",
              "      border-top-color: var(--fill-color);\n",
              "      border-right-color: var(--fill-color);\n",
              "    }\n",
              "    40% {\n",
              "      border-color: transparent;\n",
              "      border-right-color: var(--fill-color);\n",
              "      border-top-color: var(--fill-color);\n",
              "    }\n",
              "    60% {\n",
              "      border-color: transparent;\n",
              "      border-right-color: var(--fill-color);\n",
              "    }\n",
              "    80% {\n",
              "      border-color: transparent;\n",
              "      border-right-color: var(--fill-color);\n",
              "      border-bottom-color: var(--fill-color);\n",
              "    }\n",
              "    90% {\n",
              "      border-color: transparent;\n",
              "      border-bottom-color: var(--fill-color);\n",
              "    }\n",
              "  }\n",
              "</style>\n",
              "\n",
              "  <script>\n",
              "    async function quickchart(key) {\n",
              "      const quickchartButtonEl =\n",
              "        document.querySelector('#' + key + ' button');\n",
              "      quickchartButtonEl.disabled = true;  // To prevent multiple clicks.\n",
              "      quickchartButtonEl.classList.add('colab-df-spinner');\n",
              "      try {\n",
              "        const charts = await google.colab.kernel.invokeFunction(\n",
              "            'suggestCharts', [key], {});\n",
              "      } catch (error) {\n",
              "        console.error('Error during call to suggestCharts:', error);\n",
              "      }\n",
              "      quickchartButtonEl.classList.remove('colab-df-spinner');\n",
              "      quickchartButtonEl.classList.add('colab-df-quickchart-complete');\n",
              "    }\n",
              "    (() => {\n",
              "      let quickchartButtonEl =\n",
              "        document.querySelector('#df-08e34771-1acc-4f87-adb1-65d597e7a9b9 button');\n",
              "      quickchartButtonEl.style.display =\n",
              "        google.colab.kernel.accessAllowed ? 'block' : 'none';\n",
              "    })();\n",
              "  </script>\n",
              "</div>\n",
              "\n",
              "  <div id=\"id_5f70ff82-d258-4ac8-aac9-66731cc26f5d\">\n",
              "    <style>\n",
              "      .colab-df-generate {\n",
              "        background-color: #E8F0FE;\n",
              "        border: none;\n",
              "        border-radius: 50%;\n",
              "        cursor: pointer;\n",
              "        display: none;\n",
              "        fill: #1967D2;\n",
              "        height: 32px;\n",
              "        padding: 0 0 0 0;\n",
              "        width: 32px;\n",
              "      }\n",
              "\n",
              "      .colab-df-generate:hover {\n",
              "        background-color: #E2EBFA;\n",
              "        box-shadow: 0px 1px 2px rgba(60, 64, 67, 0.3), 0px 1px 3px 1px rgba(60, 64, 67, 0.15);\n",
              "        fill: #174EA6;\n",
              "      }\n",
              "\n",
              "      [theme=dark] .colab-df-generate {\n",
              "        background-color: #3B4455;\n",
              "        fill: #D2E3FC;\n",
              "      }\n",
              "\n",
              "      [theme=dark] .colab-df-generate:hover {\n",
              "        background-color: #434B5C;\n",
              "        box-shadow: 0px 1px 3px 1px rgba(0, 0, 0, 0.15);\n",
              "        filter: drop-shadow(0px 1px 2px rgba(0, 0, 0, 0.3));\n",
              "        fill: #FFFFFF;\n",
              "      }\n",
              "    </style>\n",
              "    <button class=\"colab-df-generate\" onclick=\"generateWithVariable('df')\"\n",
              "            title=\"Generate code using this dataframe.\"\n",
              "            style=\"display:none;\">\n",
              "\n",
              "  <svg xmlns=\"http://www.w3.org/2000/svg\" height=\"24px\"viewBox=\"0 0 24 24\"\n",
              "       width=\"24px\">\n",
              "    <path d=\"M7,19H8.4L18.45,9,17,7.55,7,17.6ZM5,21V16.75L18.45,3.32a2,2,0,0,1,2.83,0l1.4,1.43a1.91,1.91,0,0,1,.58,1.4,1.91,1.91,0,0,1-.58,1.4L9.25,21ZM18.45,9,17,7.55Zm-12,3A5.31,5.31,0,0,0,4.9,8.1,5.31,5.31,0,0,0,1,6.5,5.31,5.31,0,0,0,4.9,4.9,5.31,5.31,0,0,0,6.5,1,5.31,5.31,0,0,0,8.1,4.9,5.31,5.31,0,0,0,12,6.5,5.46,5.46,0,0,0,6.5,12Z\"/>\n",
              "  </svg>\n",
              "    </button>\n",
              "    <script>\n",
              "      (() => {\n",
              "      const buttonEl =\n",
              "        document.querySelector('#id_5f70ff82-d258-4ac8-aac9-66731cc26f5d button.colab-df-generate');\n",
              "      buttonEl.style.display =\n",
              "        google.colab.kernel.accessAllowed ? 'block' : 'none';\n",
              "\n",
              "      buttonEl.onclick = () => {\n",
              "        google.colab.notebook.generateWithVariable('df');\n",
              "      }\n",
              "      })();\n",
              "    </script>\n",
              "  </div>\n",
              "\n",
              "    </div>\n",
              "  </div>\n"
            ],
            "application/vnd.google.colaboratory.intrinsic+json": {
              "type": "dataframe",
              "variable_name": "df",
              "summary": "{\n  \"name\": \"df\",\n  \"rows\": 4,\n  \"fields\": [\n    {\n      \"column\": \"text\",\n      \"properties\": {\n        \"dtype\": \"string\",\n        \"num_unique_values\": 4,\n        \"samples\": [\n          \"movies watch movies\",\n          \"movies write comment\",\n          \"people Watch movies\"\n        ],\n        \"semantic_type\": \"\",\n        \"description\": \"\"\n      }\n    },\n    {\n      \"column\": \"output\",\n      \"properties\": {\n        \"dtype\": \"number\",\n        \"std\": 0,\n        \"min\": 0,\n        \"max\": 1,\n        \"num_unique_values\": 2,\n        \"samples\": [\n          0,\n          1\n        ],\n        \"semantic_type\": \"\",\n        \"description\": \"\"\n      }\n    }\n  ]\n}"
            }
          },
          "metadata": {},
          "execution_count": 7
        }
      ]
    },
    {
      "cell_type": "code",
      "source": [
        "from sklearn.feature_extraction.text import CountVectorizer\n",
        "cv = CountVectorizer()"
      ],
      "metadata": {
        "id": "0a3cRDNCT_3x"
      },
      "execution_count": null,
      "outputs": []
    },
    {
      "cell_type": "code",
      "source": [
        "bow=cv.fit_transform(df['text'])"
      ],
      "metadata": {
        "id": "18U_A1B9UdEd"
      },
      "execution_count": null,
      "outputs": []
    },
    {
      "cell_type": "code",
      "source": [
        "#vocab\n",
        "print(cv.vocabulary_)"
      ],
      "metadata": {
        "colab": {
          "base_uri": "https://localhost:8080/"
        },
        "id": "oE5YdyMPUjhd",
        "outputId": "86f1e7e7-9127-41e9-f2e2-9a989ea9923f"
      },
      "execution_count": null,
      "outputs": [
        {
          "output_type": "stream",
          "name": "stdout",
          "text": [
            "{'people': 2, 'watch': 3, 'movies': 1, 'write': 4, 'comment': 0}\n"
          ]
        }
      ]
    },
    {
      "cell_type": "code",
      "source": [
        "cv.get_feature_names_out()"
      ],
      "metadata": {
        "colab": {
          "base_uri": "https://localhost:8080/"
        },
        "id": "DhJ0qcoQf7U5",
        "outputId": "d4c67a23-8672-4e2f-94d4-abd911e5fab3"
      },
      "execution_count": null,
      "outputs": [
        {
          "output_type": "execute_result",
          "data": {
            "text/plain": [
              "array(['comment', 'movies', 'people', 'watch', 'write'], dtype=object)"
            ]
          },
          "metadata": {},
          "execution_count": 11
        }
      ]
    },
    {
      "cell_type": "code",
      "source": [
        "print(bow.toarray())"
      ],
      "metadata": {
        "colab": {
          "base_uri": "https://localhost:8080/"
        },
        "id": "XcDY9crKgGOU",
        "outputId": "250e2552-4b36-4050-9d49-18a7eedba032"
      },
      "execution_count": null,
      "outputs": [
        {
          "output_type": "stream",
          "name": "stdout",
          "text": [
            "[[0 1 1 1 0]\n",
            " [0 2 0 1 0]\n",
            " [1 0 1 0 1]\n",
            " [1 1 0 0 1]]\n"
          ]
        }
      ]
    },
    {
      "cell_type": "code",
      "source": [
        "bow.shape"
      ],
      "metadata": {
        "colab": {
          "base_uri": "https://localhost:8080/"
        },
        "id": "5F0dbSo5iIRq",
        "outputId": "413da0e9-adfa-497d-c85d-acf5d729e188"
      },
      "execution_count": null,
      "outputs": [
        {
          "output_type": "execute_result",
          "data": {
            "text/plain": [
              "(4, 5)"
            ]
          },
          "metadata": {},
          "execution_count": 13
        }
      ]
    },
    {
      "cell_type": "code",
      "source": [
        "print(bow[0].toarray())\n",
        "print(bow[1].toarray())"
      ],
      "metadata": {
        "colab": {
          "base_uri": "https://localhost:8080/"
        },
        "id": "v5lNI4EtUqTF",
        "outputId": "8ddd5e2a-5806-49ba-ef1d-256fd9c17768"
      },
      "execution_count": null,
      "outputs": [
        {
          "output_type": "stream",
          "name": "stdout",
          "text": [
            "[[0 1 1 1 0]]\n",
            "[[0 2 0 1 0]]\n"
          ]
        }
      ]
    },
    {
      "cell_type": "code",
      "source": [
        "print(bow[2])"
      ],
      "metadata": {
        "colab": {
          "base_uri": "https://localhost:8080/"
        },
        "id": "_3aoNbL6U3MN",
        "outputId": "c0c737dc-1aaa-462c-fc46-fc3ffc261633"
      },
      "execution_count": null,
      "outputs": [
        {
          "output_type": "stream",
          "name": "stdout",
          "text": [
            "  (0, 2)\t1\n",
            "  (0, 4)\t1\n",
            "  (0, 0)\t1\n"
          ]
        }
      ]
    },
    {
      "cell_type": "code",
      "source": [
        "cv.transform([\"campusx watch and write comment of campusx\"]).toarray()"
      ],
      "metadata": {
        "colab": {
          "base_uri": "https://localhost:8080/"
        },
        "id": "jy5nGwufU5Y9",
        "outputId": "ca3253c9-e32b-4336-d439-1988e278fa09"
      },
      "execution_count": null,
      "outputs": [
        {
          "output_type": "execute_result",
          "data": {
            "text/plain": [
              "array([[1, 0, 0, 1, 1]])"
            ]
          },
          "metadata": {},
          "execution_count": 16
        }
      ]
    },
    {
      "cell_type": "markdown",
      "source": [
        "## Pros and Cons of Bag of Words (BoW) Model\n",
        "\n",
        "### Pros:\n",
        "\n",
        "1. **Simplicity**: BoW is easy to understand and implement, making it accessible even for beginners in natural language processing (NLP).\n",
        "\n",
        "2. **Efficiency**: It is computationally efficient, especially for large corpora, as it only requires counting the frequency of words.\n",
        "\n",
        "3. **Versatility**: BoW can be used for various NLP tasks such as text classification, sentiment analysis, and document clustering.\n",
        "\n",
        "4. **Language Agnostic**: BoW is language-agnostic, meaning it can be applied to any language without significant modifications.\n",
        "\n",
        "5. **Robustness**: BoW can handle misspellings and variations of words well, as it focuses on word frequency rather than exact word matching.\n",
        "\n",
        "### Cons:\n",
        "\n",
        "1. **Loss of Word Order**: BoW disregards the order of words in the document, leading to a loss of sequential information and context.\n",
        "\n",
        "2. **Sparse Representation**: In datasets with large vocabularies, BoW representations can be very sparse, leading to high-dimensional feature vectors and increased computational complexity.\n",
        "\n",
        "3. **Lack of Semantic Understanding**: BoW treats each word as independent, ignoring the semantic relationships between words and resulting in a shallow understanding of the text.\n",
        "\n",
        "4. **Inability to Capture Phrases**: BoW fails to capture phrases or multi-word expressions, which can be crucial for tasks requiring contextual understanding.\n",
        "\n",
        "5. **Limited to Bag of Words**: BoW does not consider other linguistic features such as part-of-speech tags, syntactic structure, or semantic meaning, limiting its expressive power compared to more advanced models.\n",
        "\n"
      ],
      "metadata": {
        "id": "EH4_LYcXHa4A"
      }
    },
    {
      "cell_type": "markdown",
      "source": [
        "# BAG OF WORDS HYPERPARAMETERS"
      ],
      "metadata": {
        "id": "FzYwDn8na_yV"
      }
    },
    {
      "cell_type": "code",
      "source": [
        "from sklearn.feature_extraction.text import CountVectorizer\n",
        "\n",
        "# Sample text data\n",
        "text_data = [\"This is a very good movie.\", \"This is not a good movie.\"]\n",
        "\n",
        "\n",
        "\n",
        "# Custom vocabularies\n",
        "custom_vocabulary_dict = {'this': 0, 'is': 1, 'good': 2, 'movie': 3}\n",
        "custom_vocabulary_list = ['this', 'very', 'good', 'movie']\n",
        "\n",
        "# Initialize CountVectorizer with custom hyperparameters\n",
        "cv = CountVectorizer(\n",
        "    input='content',           # Input type is 'content'\n",
        "    encoding='utf-8',          # Encoding is UTF-8\n",
        "    decode_error='strict',     # Decoding errors handled strictly\n",
        "    strip_accents=None,        # Do not strip accents\n",
        "    lowercase=True,            # Convert all characters to lowercase\n",
        "    preprocessor=None,         # No custom preprocessing function\n",
        "    tokenizer=None,            # No custom tokenizer function\n",
        "    stop_words=None,           # No stopwords removal\n",
        "    token_pattern='(?u)\\\\b\\\\w\\\\w+\\\\b',  # Regular expression pattern for tokenization\n",
        "    ngram_range=(1, 2),        # Generate unigrams and bigrams\n",
        "    analyzer='word',           # Generate N-grams at the word level\n",
        "    max_df=1.0,                # No maximum document frequency threshold\n",
        "    min_df=1,                  # Minimum document frequency is 1\n",
        "    max_features=None,         # No maximum number of features you want to use in featurs\n",
        "    vocabulary=custom_vocabulary_list,           # Automatically determine the vocabulary we can specify the imp vocabulary\n",
        "    binary=False               # Term frequencies are not binary\n",
        ")\n",
        "\n",
        "# Fit and transform the text data\n",
        "ngrams = cv.fit_transform(text_data)\n",
        "\n",
        "# Get the vocabulary (feature names)\n",
        "vocab = cv.get_feature_names_out()\n",
        "\n",
        "# Convert the result to a DataFrame for visualization\n",
        "ngrams_df = pd.DataFrame(ngrams.toarray(), columns=vocab)\n",
        "print(ngrams_df)\n"
      ],
      "metadata": {
        "colab": {
          "base_uri": "https://localhost:8080/"
        },
        "id": "YJY9VpseZSFn",
        "outputId": "1262560f-806d-46cf-c876-2399df5eef06"
      },
      "execution_count": null,
      "outputs": [
        {
          "output_type": "stream",
          "name": "stdout",
          "text": [
            "   this  very  good  movie\n",
            "0     1     1     1      1\n",
            "1     1     0     1      1\n"
          ]
        }
      ]
    },
    {
      "cell_type": "markdown",
      "source": [
        "# N-Grams"
      ],
      "metadata": {
        "id": "3wWwbFQCVueD"
      }
    },
    {
      "cell_type": "markdown",
      "source": [
        "N-grams are contiguous sequences of n items from a given sample of text or speech. In the context of text processing, these items are usually words, but they can also be letters or syllables depending on the application. Here are some examples of n-grams in English:\n",
        "\n",
        "Unigrams (1-grams): Single words.\n",
        "\n",
        "Example: \"apple\", \"banana\", \"orange\"\n",
        "Bigrams (2-grams): Sequences of two adjacent words.\n",
        "\n",
        "Example: \"big data\", \"machine learning\", \"natural language\"\n",
        "Trigrams (3-grams): Sequences of three adjacent words.\n",
        "\n",
        "Example: \"artificial intelligence\", \"deep learning model\", \"data science project\"\n",
        "Four-grams (4-grams): Sequences of four adjacent words.\n",
        "\n",
        "Example: \"neural network architecture\", \"supervised learning algorithms\", \"text classification task\"\n",
        "\n",
        "**In natural language processing (NLP), it's common to limit the maximum length of N-grams generated from a document. This limitation is applied to ensure efficient processing and to prevent potential issues such as memory overflow.**\n",
        "\n",
        "First, let's generate the unigrams, bigrams, and trigrams for each document:\n",
        "\n",
        "**Document 1: \"This is a very good movie.\"**\n",
        "- Unigrams: [\"this\", \"is\", \"a\", \"very\", \"good\", \"movie\"]\n",
        "- Bigrams: [\"this is\", \"is a\", \"a very\", \"very good\", \"good movie\"]\n",
        "- Trigrams: [\"this is a\", \"is a very\", \"a very good\", \"very good movie\"]\n",
        "\n",
        "**Document 2: \"This is not a good movie.\"**\n",
        "- Unigrams: [\"this\", \"is\", \"not\", \"a\", \"good\", \"movie\"]\n",
        "- Bigrams: [\"this is\", \"is not\", \"not a\", \"a good\", \"good movie\"]\n",
        "- Trigrams: [\"this is not\", \"is not a\", \"not a good\", \"a good movie\"]\n",
        "\n",
        "Now, let's compare the N-gram representations of the documents:\n",
        "\n",
        "**Bigrams:**\n",
        "- Document 1: [\"this is\", \"is a\", \"a very\", \"very good\", \"good movie\"]\n",
        "- Document 2: [\"this is\", \"is not\", \"not a\", \"a good\", \"good movie\"]\n",
        "\n",
        "In the bigram representation, we can see that the bigram \"not good\" appears in Document 2 but not in Document 1. This indicates a negation (\"not\") followed by a positive adjective (\"good\"), suggesting a negative sentiment.\n",
        "\n",
        "**Trigrams:**\n",
        "- Document 1: [\"this is a\", \"is a very\", \"a very good\", \"very good movie\"]\n",
        "- Document 2: [\"this is not\", \"is not a\", \"not a good\", \"a good movie\"]\n",
        "\n",
        "Similarly, in the trigram representation, we observe the trigram \"not a good\" only in Document 2, which reinforces the presence of negation followed by a positive adjective.\n",
        "\n",
        "By considering N-grams, we capture more contextual information, including sequences of words, which helps in distinguishing the opposite meanings between the documents. In this case, N-grams provide better insight into the sentiment expressed in each document compared to the Bag of Words approach.\n",
        "\n"
      ],
      "metadata": {
        "id": "A1lJMhbFIy23"
      }
    },
    {
      "cell_type": "code",
      "source": [
        "from nltk import ngrams\n",
        "sentence= 'You must be the change you wish to see in the world'\n",
        "\n",
        "unigram=ngrams(sentence.split(),1)\n",
        "print(\"-\"*100)\n",
        "print(\"Unigrams\")\n",
        "for grams in unigram:\n",
        "  print(grams)\n",
        "\n",
        "bigrams=ngrams(sentence.split(),2)\n",
        "print(\"-\"*100)\n",
        "print(\"Bigrams\")\n",
        "for grams in bigrams:\n",
        "  print(grams)\n",
        "\n",
        "\n",
        "trigram=ngrams(sentence.split(),3)\n",
        "print(\"-\"*100)\n",
        "print(\"Bigrams\")\n",
        "for grams in trigram:\n",
        "  print(grams)\n"
      ],
      "metadata": {
        "colab": {
          "base_uri": "https://localhost:8080/"
        },
        "id": "tkcb-Mew_kS3",
        "outputId": "f7f9c328-d4b7-4e9b-95d1-c1040aa53652"
      },
      "execution_count": null,
      "outputs": [
        {
          "output_type": "stream",
          "name": "stdout",
          "text": [
            "----------------------------------------------------------------------------------------------------\n",
            "Unigrams\n",
            "('You',)\n",
            "('must',)\n",
            "('be',)\n",
            "('the',)\n",
            "('change',)\n",
            "('you',)\n",
            "('wish',)\n",
            "('to',)\n",
            "('see',)\n",
            "('in',)\n",
            "('the',)\n",
            "('world',)\n",
            "----------------------------------------------------------------------------------------------------\n",
            "Bigrams\n",
            "('You', 'must')\n",
            "('must', 'be')\n",
            "('be', 'the')\n",
            "('the', 'change')\n",
            "('change', 'you')\n",
            "('you', 'wish')\n",
            "('wish', 'to')\n",
            "('to', 'see')\n",
            "('see', 'in')\n",
            "('in', 'the')\n",
            "('the', 'world')\n",
            "----------------------------------------------------------------------------------------------------\n",
            "Bigrams\n",
            "('You', 'must', 'be')\n",
            "('must', 'be', 'the')\n",
            "('be', 'the', 'change')\n",
            "('the', 'change', 'you')\n",
            "('change', 'you', 'wish')\n",
            "('you', 'wish', 'to')\n",
            "('wish', 'to', 'see')\n",
            "('to', 'see', 'in')\n",
            "('see', 'in', 'the')\n",
            "('in', 'the', 'world')\n"
          ]
        }
      ]
    },
    {
      "cell_type": "code",
      "source": [
        "df\n",
        "\n",
        "from sklearn.feature_extraction.text import CountVectorizer\n",
        "ngram_range=(1,1)\n",
        "cv = CountVectorizer(ngram_range=ngram_range)\n",
        "ngrams=cv.fit_transform(df['text'])\n",
        "print(\"Vocabulary \",cv.vocabulary_)\n",
        "cv.get_feature_names_out()\n",
        "print(ngrams.toarray())\n",
        "\n",
        "print(\"-\"*100)\n",
        "ngram_range=(2,2)\n",
        "cv = CountVectorizer(ngram_range=ngram_range)\n",
        "ngrams=cv.fit_transform(df['text'])\n",
        "print(\"Vocabulary \",cv.vocabulary_)\n",
        "print(cv.get_feature_names_out())\n",
        "ngrams.toarray()\n",
        "\n",
        "cv.transform([\"people watch movies in dec\"]).toarray()"
      ],
      "metadata": {
        "colab": {
          "base_uri": "https://localhost:8080/"
        },
        "id": "NQ9JWocBUKn3",
        "outputId": "a0edbea1-d02a-4a64-b22b-a2febb99bb64"
      },
      "execution_count": null,
      "outputs": [
        {
          "output_type": "stream",
          "name": "stdout",
          "text": [
            "Vocabulary  {'people': 2, 'watch': 3, 'movies': 1, 'write': 4, 'comment': 0}\n",
            "[[0 1 1 1 0]\n",
            " [0 2 0 1 0]\n",
            " [1 0 1 0 1]\n",
            " [1 1 0 0 1]]\n",
            "----------------------------------------------------------------------------------------------------\n",
            "Vocabulary  {'people watch': 2, 'watch movies': 4, 'movies watch': 0, 'people write': 3, 'write comment': 5, 'movies write': 1}\n",
            "['movies watch' 'movies write' 'people watch' 'people write'\n",
            " 'watch movies' 'write comment']\n"
          ]
        },
        {
          "output_type": "execute_result",
          "data": {
            "text/plain": [
              "array([[0, 0, 1, 0, 1, 0]])"
            ]
          },
          "metadata": {},
          "execution_count": 18
        }
      ]
    },
    {
      "cell_type": "markdown",
      "source": [
        "## Pros and Cons of N-grams in Natural Language Processing (NLP)\n",
        "\n",
        "### Pros:\n",
        "\n",
        "1. **Contextual Understanding**: N-grams capture contextual information by considering sequences of words, which helps in understanding the meaning and sentiment of text more accurately.\n",
        "\n",
        "2. **Phrase Detection**: N-grams can detect and capture phrases or multi-word expressions, providing deeper insights into the structure and semantics of the text.\n",
        "\n",
        "3. **Improved Feature Representation**: N-grams offer richer feature representations compared to Bag of Words (BoW) by preserving word order and capturing dependencies between adjacent words.\n",
        "\n",
        "4. **Flexibility**: N-grams can be customized to different lengths (e.g., bigrams, trigrams) based on the specific requirements of the NLP task, offering flexibility in modeling text data.\n",
        "\n",
        "5. **Robustness to Variations**: N-grams are robust to variations in word order, spelling, and syntax, making them suitable for handling noisy or unstructured text data.\n",
        "\n",
        "### Cons:\n",
        "\n",
        "1. **Increased Dimensionality**: N-grams representations can lead to high-dimensional feature spaces, especially for longer sequences, which may increase computational complexity and require more data for training.\n",
        "\n",
        "2. **Data Sparsity**: In datasets with limited text samples, some N-grams may have low frequencies or occur only in specific contexts, resulting in sparse representations and potential overfitting.\n",
        "\n",
        "3. **Memory and Storage Requirements**: Storing and processing N-grams representations can require more memory and storage space compared to simpler models like BoW, especially for large datasets.\n",
        "\n",
        "4. **Curse of Dimensionality**: The exponential growth of feature space with increasing N-gram length can exacerbate the curse of dimensionality, leading to challenges in model training and generalization.\n",
        "\n",
        "5. **Semantic Ambiguity**: While N-grams capture local context, they may not capture broader semantic relationships between distant words in the text, potentially limiting their ability to understand complex linguistic structures.\n",
        "\n"
      ],
      "metadata": {
        "id": "0Rc7Y_duJhnS"
      }
    },
    {
      "cell_type": "markdown",
      "source": [
        "# TF-IDF\n",
        " stands for \"Term Frequency-Inverse Document Frequency.\" It is a statistical measure used in natural language processing and information retrieval to evaluate the importance of a word in a document relative to a collection of documents.\n",
        "\n",
        "TF-IDF is calculated as the product of two metrics:"
      ],
      "metadata": {
        "id": "sh2ViSqgJiOr"
      }
    },
    {
      "cell_type": "markdown",
      "source": [
        "![image.png](data:image/png;base64,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)"
      ],
      "metadata": {
        "id": "Hqar8mGWgokp"
      }
    },
    {
      "cell_type": "markdown",
      "source": [
        "Documents:\n",
        "\n",
        "\"people Watch movies\"\n",
        "\n",
        "\"movies watch movies\"\n",
        "\n",
        "\"people write comment\"\n",
        "\n",
        "\"movies write comment\"\n",
        "\n",
        "manually calculate TF (Term Frequency) and IDF (Inverse Document Frequency) for the given documents."
      ],
      "metadata": {
        "id": "yAjlISregqzE"
      }
    },
    {
      "cell_type": "markdown",
      "source": [
        "![image.png](data:image/png;base64,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)"
      ],
      "metadata": {
        "id": "BgsXJjmergwi"
      }
    },
    {
      "cell_type": "markdown",
      "source": [
        "![image.png](data:image/png;base64,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)"
      ],
      "metadata": {
        "id": "JEeCI_ASsIYj"
      }
    },
    {
      "cell_type": "code",
      "source": [
        "df"
      ],
      "metadata": {
        "colab": {
          "base_uri": "https://localhost:8080/",
          "height": 175
        },
        "id": "jIJC3YCEsP2D",
        "outputId": "493d3228-5728-4338-e419-e3b286e88203"
      },
      "execution_count": null,
      "outputs": [
        {
          "output_type": "execute_result",
          "data": {
            "text/plain": [
              "                   text  output\n",
              "0   people Watch movies       1\n",
              "1   movies watch movies       1\n",
              "2  people write comment       0\n",
              "3  movies write comment       0"
            ],
            "text/html": [
              "\n",
              "  <div id=\"df-be981113-18d8-4e47-ad2d-cb490bdafc43\" class=\"colab-df-container\">\n",
              "    <div>\n",
              "<style scoped>\n",
              "    .dataframe tbody tr th:only-of-type {\n",
              "        vertical-align: middle;\n",
              "    }\n",
              "\n",
              "    .dataframe tbody tr th {\n",
              "        vertical-align: top;\n",
              "    }\n",
              "\n",
              "    .dataframe thead th {\n",
              "        text-align: right;\n",
              "    }\n",
              "</style>\n",
              "<table border=\"1\" class=\"dataframe\">\n",
              "  <thead>\n",
              "    <tr style=\"text-align: right;\">\n",
              "      <th></th>\n",
              "      <th>text</th>\n",
              "      <th>output</th>\n",
              "    </tr>\n",
              "  </thead>\n",
              "  <tbody>\n",
              "    <tr>\n",
              "      <th>0</th>\n",
              "      <td>people Watch movies</td>\n",
              "      <td>1</td>\n",
              "    </tr>\n",
              "    <tr>\n",
              "      <th>1</th>\n",
              "      <td>movies watch movies</td>\n",
              "      <td>1</td>\n",
              "    </tr>\n",
              "    <tr>\n",
              "      <th>2</th>\n",
              "      <td>people write comment</td>\n",
              "      <td>0</td>\n",
              "    </tr>\n",
              "    <tr>\n",
              "      <th>3</th>\n",
              "      <td>movies write comment</td>\n",
              "      <td>0</td>\n",
              "    </tr>\n",
              "  </tbody>\n",
              "</table>\n",
              "</div>\n",
              "    <div class=\"colab-df-buttons\">\n",
              "\n",
              "  <div class=\"colab-df-container\">\n",
              "    <button class=\"colab-df-convert\" onclick=\"convertToInteractive('df-be981113-18d8-4e47-ad2d-cb490bdafc43')\"\n",
              "            title=\"Convert this dataframe to an interactive table.\"\n",
              "            style=\"display:none;\">\n",
              "\n",
              "  <svg xmlns=\"http://www.w3.org/2000/svg\" height=\"24px\" viewBox=\"0 -960 960 960\">\n",
              "    <path d=\"M120-120v-720h720v720H120Zm60-500h600v-160H180v160Zm220 220h160v-160H400v160Zm0 220h160v-160H400v160ZM180-400h160v-160H180v160Zm440 0h160v-160H620v160ZM180-180h160v-160H180v160Zm440 0h160v-160H620v160Z\"/>\n",
              "  </svg>\n",
              "    </button>\n",
              "\n",
              "  <style>\n",
              "    .colab-df-container {\n",
              "      display:flex;\n",
              "      gap: 12px;\n",
              "    }\n",
              "\n",
              "    .colab-df-convert {\n",
              "      background-color: #E8F0FE;\n",
              "      border: none;\n",
              "      border-radius: 50%;\n",
              "      cursor: pointer;\n",
              "      display: none;\n",
              "      fill: #1967D2;\n",
              "      height: 32px;\n",
              "      padding: 0 0 0 0;\n",
              "      width: 32px;\n",
              "    }\n",
              "\n",
              "    .colab-df-convert:hover {\n",
              "      background-color: #E2EBFA;\n",
              "      box-shadow: 0px 1px 2px rgba(60, 64, 67, 0.3), 0px 1px 3px 1px rgba(60, 64, 67, 0.15);\n",
              "      fill: #174EA6;\n",
              "    }\n",
              "\n",
              "    .colab-df-buttons div {\n",
              "      margin-bottom: 4px;\n",
              "    }\n",
              "\n",
              "    [theme=dark] .colab-df-convert {\n",
              "      background-color: #3B4455;\n",
              "      fill: #D2E3FC;\n",
              "    }\n",
              "\n",
              "    [theme=dark] .colab-df-convert:hover {\n",
              "      background-color: #434B5C;\n",
              "      box-shadow: 0px 1px 3px 1px rgba(0, 0, 0, 0.15);\n",
              "      filter: drop-shadow(0px 1px 2px rgba(0, 0, 0, 0.3));\n",
              "      fill: #FFFFFF;\n",
              "    }\n",
              "  </style>\n",
              "\n",
              "    <script>\n",
              "      const buttonEl =\n",
              "        document.querySelector('#df-be981113-18d8-4e47-ad2d-cb490bdafc43 button.colab-df-convert');\n",
              "      buttonEl.style.display =\n",
              "        google.colab.kernel.accessAllowed ? 'block' : 'none';\n",
              "\n",
              "      async function convertToInteractive(key) {\n",
              "        const element = document.querySelector('#df-be981113-18d8-4e47-ad2d-cb490bdafc43');\n",
              "        const dataTable =\n",
              "          await google.colab.kernel.invokeFunction('convertToInteractive',\n",
              "                                                    [key], {});\n",
              "        if (!dataTable) return;\n",
              "\n",
              "        const docLinkHtml = 'Like what you see? Visit the ' +\n",
              "          '<a target=\"_blank\" href=https://colab.research.google.com/notebooks/data_table.ipynb>data table notebook</a>'\n",
              "          + ' to learn more about interactive tables.';\n",
              "        element.innerHTML = '';\n",
              "        dataTable['output_type'] = 'display_data';\n",
              "        await google.colab.output.renderOutput(dataTable, element);\n",
              "        const docLink = document.createElement('div');\n",
              "        docLink.innerHTML = docLinkHtml;\n",
              "        element.appendChild(docLink);\n",
              "      }\n",
              "    </script>\n",
              "  </div>\n",
              "\n",
              "\n",
              "<div id=\"df-b554745b-9143-4c0d-8166-fd1e4b3c14d6\">\n",
              "  <button class=\"colab-df-quickchart\" onclick=\"quickchart('df-b554745b-9143-4c0d-8166-fd1e4b3c14d6')\"\n",
              "            title=\"Suggest charts\"\n",
              "            style=\"display:none;\">\n",
              "\n",
              "<svg xmlns=\"http://www.w3.org/2000/svg\" height=\"24px\"viewBox=\"0 0 24 24\"\n",
              "     width=\"24px\">\n",
              "    <g>\n",
              "        <path d=\"M19 3H5c-1.1 0-2 .9-2 2v14c0 1.1.9 2 2 2h14c1.1 0 2-.9 2-2V5c0-1.1-.9-2-2-2zM9 17H7v-7h2v7zm4 0h-2V7h2v10zm4 0h-2v-4h2v4z\"/>\n",
              "    </g>\n",
              "</svg>\n",
              "  </button>\n",
              "\n",
              "<style>\n",
              "  .colab-df-quickchart {\n",
              "      --bg-color: #E8F0FE;\n",
              "      --fill-color: #1967D2;\n",
              "      --hover-bg-color: #E2EBFA;\n",
              "      --hover-fill-color: #174EA6;\n",
              "      --disabled-fill-color: #AAA;\n",
              "      --disabled-bg-color: #DDD;\n",
              "  }\n",
              "\n",
              "  [theme=dark] .colab-df-quickchart {\n",
              "      --bg-color: #3B4455;\n",
              "      --fill-color: #D2E3FC;\n",
              "      --hover-bg-color: #434B5C;\n",
              "      --hover-fill-color: #FFFFFF;\n",
              "      --disabled-bg-color: #3B4455;\n",
              "      --disabled-fill-color: #666;\n",
              "  }\n",
              "\n",
              "  .colab-df-quickchart {\n",
              "    background-color: var(--bg-color);\n",
              "    border: none;\n",
              "    border-radius: 50%;\n",
              "    cursor: pointer;\n",
              "    display: none;\n",
              "    fill: var(--fill-color);\n",
              "    height: 32px;\n",
              "    padding: 0;\n",
              "    width: 32px;\n",
              "  }\n",
              "\n",
              "  .colab-df-quickchart:hover {\n",
              "    background-color: var(--hover-bg-color);\n",
              "    box-shadow: 0 1px 2px rgba(60, 64, 67, 0.3), 0 1px 3px 1px rgba(60, 64, 67, 0.15);\n",
              "    fill: var(--button-hover-fill-color);\n",
              "  }\n",
              "\n",
              "  .colab-df-quickchart-complete:disabled,\n",
              "  .colab-df-quickchart-complete:disabled:hover {\n",
              "    background-color: var(--disabled-bg-color);\n",
              "    fill: var(--disabled-fill-color);\n",
              "    box-shadow: none;\n",
              "  }\n",
              "\n",
              "  .colab-df-spinner {\n",
              "    border: 2px solid var(--fill-color);\n",
              "    border-color: transparent;\n",
              "    border-bottom-color: var(--fill-color);\n",
              "    animation:\n",
              "      spin 1s steps(1) infinite;\n",
              "  }\n",
              "\n",
              "  @keyframes spin {\n",
              "    0% {\n",
              "      border-color: transparent;\n",
              "      border-bottom-color: var(--fill-color);\n",
              "      border-left-color: var(--fill-color);\n",
              "    }\n",
              "    20% {\n",
              "      border-color: transparent;\n",
              "      border-left-color: var(--fill-color);\n",
              "      border-top-color: var(--fill-color);\n",
              "    }\n",
              "    30% {\n",
              "      border-color: transparent;\n",
              "      border-left-color: var(--fill-color);\n",
              "      border-top-color: var(--fill-color);\n",
              "      border-right-color: var(--fill-color);\n",
              "    }\n",
              "    40% {\n",
              "      border-color: transparent;\n",
              "      border-right-color: var(--fill-color);\n",
              "      border-top-color: var(--fill-color);\n",
              "    }\n",
              "    60% {\n",
              "      border-color: transparent;\n",
              "      border-right-color: var(--fill-color);\n",
              "    }\n",
              "    80% {\n",
              "      border-color: transparent;\n",
              "      border-right-color: var(--fill-color);\n",
              "      border-bottom-color: var(--fill-color);\n",
              "    }\n",
              "    90% {\n",
              "      border-color: transparent;\n",
              "      border-bottom-color: var(--fill-color);\n",
              "    }\n",
              "  }\n",
              "</style>\n",
              "\n",
              "  <script>\n",
              "    async function quickchart(key) {\n",
              "      const quickchartButtonEl =\n",
              "        document.querySelector('#' + key + ' button');\n",
              "      quickchartButtonEl.disabled = true;  // To prevent multiple clicks.\n",
              "      quickchartButtonEl.classList.add('colab-df-spinner');\n",
              "      try {\n",
              "        const charts = await google.colab.kernel.invokeFunction(\n",
              "            'suggestCharts', [key], {});\n",
              "      } catch (error) {\n",
              "        console.error('Error during call to suggestCharts:', error);\n",
              "      }\n",
              "      quickchartButtonEl.classList.remove('colab-df-spinner');\n",
              "      quickchartButtonEl.classList.add('colab-df-quickchart-complete');\n",
              "    }\n",
              "    (() => {\n",
              "      let quickchartButtonEl =\n",
              "        document.querySelector('#df-b554745b-9143-4c0d-8166-fd1e4b3c14d6 button');\n",
              "      quickchartButtonEl.style.display =\n",
              "        google.colab.kernel.accessAllowed ? 'block' : 'none';\n",
              "    })();\n",
              "  </script>\n",
              "</div>\n",
              "\n",
              "  <div id=\"id_91923ab4-ead4-4261-98b9-5bddd2b2f49e\">\n",
              "    <style>\n",
              "      .colab-df-generate {\n",
              "        background-color: #E8F0FE;\n",
              "        border: none;\n",
              "        border-radius: 50%;\n",
              "        cursor: pointer;\n",
              "        display: none;\n",
              "        fill: #1967D2;\n",
              "        height: 32px;\n",
              "        padding: 0 0 0 0;\n",
              "        width: 32px;\n",
              "      }\n",
              "\n",
              "      .colab-df-generate:hover {\n",
              "        background-color: #E2EBFA;\n",
              "        box-shadow: 0px 1px 2px rgba(60, 64, 67, 0.3), 0px 1px 3px 1px rgba(60, 64, 67, 0.15);\n",
              "        fill: #174EA6;\n",
              "      }\n",
              "\n",
              "      [theme=dark] .colab-df-generate {\n",
              "        background-color: #3B4455;\n",
              "        fill: #D2E3FC;\n",
              "      }\n",
              "\n",
              "      [theme=dark] .colab-df-generate:hover {\n",
              "        background-color: #434B5C;\n",
              "        box-shadow: 0px 1px 3px 1px rgba(0, 0, 0, 0.15);\n",
              "        filter: drop-shadow(0px 1px 2px rgba(0, 0, 0, 0.3));\n",
              "        fill: #FFFFFF;\n",
              "      }\n",
              "    </style>\n",
              "    <button class=\"colab-df-generate\" onclick=\"generateWithVariable('df')\"\n",
              "            title=\"Generate code using this dataframe.\"\n",
              "            style=\"display:none;\">\n",
              "\n",
              "  <svg xmlns=\"http://www.w3.org/2000/svg\" height=\"24px\"viewBox=\"0 0 24 24\"\n",
              "       width=\"24px\">\n",
              "    <path d=\"M7,19H8.4L18.45,9,17,7.55,7,17.6ZM5,21V16.75L18.45,3.32a2,2,0,0,1,2.83,0l1.4,1.43a1.91,1.91,0,0,1,.58,1.4,1.91,1.91,0,0,1-.58,1.4L9.25,21ZM18.45,9,17,7.55Zm-12,3A5.31,5.31,0,0,0,4.9,8.1,5.31,5.31,0,0,0,1,6.5,5.31,5.31,0,0,0,4.9,4.9,5.31,5.31,0,0,0,6.5,1,5.31,5.31,0,0,0,8.1,4.9,5.31,5.31,0,0,0,12,6.5,5.46,5.46,0,0,0,6.5,12Z\"/>\n",
              "  </svg>\n",
              "    </button>\n",
              "    <script>\n",
              "      (() => {\n",
              "      const buttonEl =\n",
              "        document.querySelector('#id_91923ab4-ead4-4261-98b9-5bddd2b2f49e button.colab-df-generate');\n",
              "      buttonEl.style.display =\n",
              "        google.colab.kernel.accessAllowed ? 'block' : 'none';\n",
              "\n",
              "      buttonEl.onclick = () => {\n",
              "        google.colab.notebook.generateWithVariable('df');\n",
              "      }\n",
              "      })();\n",
              "    </script>\n",
              "  </div>\n",
              "\n",
              "    </div>\n",
              "  </div>\n"
            ],
            "application/vnd.google.colaboratory.intrinsic+json": {
              "type": "dataframe",
              "variable_name": "df",
              "summary": "{\n  \"name\": \"df\",\n  \"rows\": 4,\n  \"fields\": [\n    {\n      \"column\": \"text\",\n      \"properties\": {\n        \"dtype\": \"string\",\n        \"num_unique_values\": 4,\n        \"samples\": [\n          \"movies watch movies\",\n          \"movies write comment\",\n          \"people Watch movies\"\n        ],\n        \"semantic_type\": \"\",\n        \"description\": \"\"\n      }\n    },\n    {\n      \"column\": \"output\",\n      \"properties\": {\n        \"dtype\": \"number\",\n        \"std\": 0,\n        \"min\": 0,\n        \"max\": 1,\n        \"num_unique_values\": 2,\n        \"samples\": [\n          0,\n          1\n        ],\n        \"semantic_type\": \"\",\n        \"description\": \"\"\n      }\n    }\n  ]\n}"
            }
          },
          "metadata": {},
          "execution_count": 20
        }
      ]
    },
    {
      "cell_type": "code",
      "source": [
        "from sklearn.feature_extraction.text import TfidfVectorizer\n",
        "tfid=TfidfVectorizer()\n",
        "\n",
        "vector=tfid.fit_transform(df['text'])\n",
        "print(tfid.get_feature_names_out())\n",
        "vector.toarray()"
      ],
      "metadata": {
        "colab": {
          "base_uri": "https://localhost:8080/"
        },
        "id": "UhPzssTstNTK",
        "outputId": "f5ce45ec-5471-4d6a-f997-b560b3171555"
      },
      "execution_count": null,
      "outputs": [
        {
          "output_type": "stream",
          "name": "stdout",
          "text": [
            "['comment' 'movies' 'people' 'watch' 'write']\n"
          ]
        },
        {
          "output_type": "execute_result",
          "data": {
            "text/plain": [
              "array([[0.        , 0.49681612, 0.61366674, 0.61366674, 0.        ],\n",
              "       [0.        , 0.8508161 , 0.        , 0.52546357, 0.        ],\n",
              "       [0.57735027, 0.        , 0.57735027, 0.        , 0.57735027],\n",
              "       [0.61366674, 0.49681612, 0.        , 0.        , 0.61366674]])"
            ]
          },
          "metadata": {},
          "execution_count": 21
        }
      ]
    },
    {
      "cell_type": "code",
      "source": [
        "vector.shape"
      ],
      "metadata": {
        "colab": {
          "base_uri": "https://localhost:8080/"
        },
        "id": "I99BjsOLttUo",
        "outputId": "e641d63f-aa1f-4f84-f29b-83648cf072ee"
      },
      "execution_count": null,
      "outputs": [
        {
          "output_type": "execute_result",
          "data": {
            "text/plain": [
              "(4, 5)"
            ]
          },
          "metadata": {},
          "execution_count": 22
        }
      ]
    },
    {
      "cell_type": "markdown",
      "source": [
        "\n",
        "### Pros:\n",
        "\n",
        "1. **Reflects Term Importance**: TF-IDF assigns higher weights to terms that are frequent in a document but rare across the entire document collection. For example, in a collection of movie reviews, the term \"cinematography\" might have a high TF-IDF score in a positive review because it's relatively rare in the entire collection but frequent in positive reviews.\n",
        "\n",
        "2. **Reduces Noise**: By giving less weight to common terms (stopwords) and more weight to rare terms, TF-IDF helps in reducing the impact of noisy and irrelevant terms in text data. For instance, in an analysis of customer feedback, the term \"the\" would likely have a low TF-IDF score because it's a common stopword and doesn't carry much meaningful information.\n",
        "\n",
        "3. **Flexible**: TF-IDF can be easily customized by adjusting parameters such as stop words, n-gram range, and normalization techniques. For example, you can exclude domain-specific stopwords or adjust the n-gram range to capture different levels of phrase complexity depending on the task at hand.\n",
        "\n",
        "4. **Language Agnostic**: TF-IDF can be applied to text data in any language, making it suitable for multilingual text analysis tasks. Whether you're analyzing English tweets or Japanese news articles, TF-IDF can effectively extract important terms and features from the text.\n",
        "\n",
        "5. **Simple and Efficient**: TF-IDF is computationally efficient and easy to implement. It does not require complex feature engineering or deep linguistic knowledge. This simplicity makes it accessible to practitioners without specialized expertise in natural language processing.\n",
        "\n",
        "### Cons:\n",
        "\n",
        "1. **Lack of Semantic Understanding**: TF-IDF does not consider the semantic relationships between terms. It treats each term independently, which may limit its ability to capture the full meaning of text data. For example, it may not distinguish between synonyms or related terms like \"buy\" and \"purchase.\"\n",
        "\n",
        "2. **Sensitivity to Document Length**: TF-IDF scores are influenced by the length of documents. Longer documents tend to have lower TF-IDF scores for individual terms compared to shorter documents, which may affect the relative importance of terms across documents. A longer document may have more occurrences of a term, but if it's also longer overall, those occurrences will be diluted in the TF-IDF calculation.\n",
        "\n",
        "3. **Domain-specific Stopwords**: While TF-IDF can filter out common stopwords, it may not capture domain-specific stopwords or terms that are not explicitly defined as stopwords but are irrelevant in a specific context. For instance, in a medical text analysis, terms like \"patient\" or \"treatment\" might be common across all documents but still important for understanding the domain.\n",
        "\n",
        "4. **Sparse Representation**: The TF-IDF matrix can be sparse, especially for large document collections with many unique terms. This sparse representation may require additional computational resources for storage and processing. For example, in a dataset with millions of documents and thousands of unique terms, the TF-IDF matrix may consume a large amount of memory.\n",
        "\n",
        "5. **Limited Contextual Information**: TF-IDF considers only the frequency of terms within individual documents and across the entire document collection. It does not capture contextual information such as word order, syntactic structure, or co-occurrence patterns, which may be important in certain text analysis tasks. For example, it may not capture the relationship between \"hot\" and \"cold\" in the phrase \"hot and cold beverages,\" which could be important for sentiment analysis or topic modeling."
      ],
      "metadata": {
        "id": "wxmQxfnKuQm_"
      }
    },
    {
      "cell_type": "markdown",
      "source": [
        "## Custom Features in Natural Language Processing (NLP)\n",
        "\n",
        "Custom features in NLP refer to additional information or characteristics extracted from text data beyond the raw text itself. These features are designed to capture specific aspects of the text relevant to the task at hand, such as sentiment analysis, text classification, named entity recognition, or any other NLP task.\n",
        "\n",
        "### Examples of Custom Features:\n",
        "\n",
        "1. **Word Embeddings**:\n",
        "   - Example: Using pre-trained Word2Vec embeddings to represent words as dense vectors.\n",
        "   \n",
        "2. **Part-of-Speech (POS) Tags**:\n",
        "   - Example: Extracting POS tags (e.g., noun, verb, adjective) for each word in a sentence.\n",
        "   \n",
        "3. **Named Entity Recognition (NER) Tags**:\n",
        "   - Example: Identifying and classifying named entities (e.g., person names, organization names) in text.\n",
        "   \n",
        "4. **Sentiment Scores**:\n",
        "   - Example: Computing sentiment scores (e.g., positive, negative, neutral) using sentiment lexicons or pre-trained sentiment classifiers.\n",
        "   \n",
        "5. **Topic Modeling**:\n",
        "   - Example: Extracting topic distributions from documents using Latent Dirichlet Allocation (LDA) or Non-negative Matrix Factorization (NMF).\n",
        "\n",
        "6. **Text Length and Complexity**:\n",
        "   - Example: Calculating text length, average word length, or readability metrics like Flesch-Kincaid Grade Level.\n",
        "\n",
        "7. **Syntax Trees or Dependency Parses**:\n",
        "   - Example: Parsing text to extract syntactic structures like syntax trees or dependency parses.\n",
        "\n",
        "8. **Bag-of-Words (BoW) or TF-IDF Representations**:\n",
        "   - Example: Creating Bag-of-Words (BoW) or TF-IDF vectors with custom preprocessing steps (e.g., stemming, lemmatization).\n",
        "\n",
        "### Choosing Features for Different Datasets and Dataset Types:\n",
        "\n",
        "- **Text Classification**:\n",
        "  - Features: Word embeddings, BoW or TF-IDF representations, POS tags, sentiment scores.\n",
        "  - Example Datasets: Movie reviews (positive/negative sentiment), news articles (topic classification).\n",
        "\n",
        "- **Named Entity Recognition (NER)**:\n",
        "  - Features: NER tags, word embeddings, syntax trees.\n",
        "  - Example Datasets: News articles (identifying entities like person names, organization names), biomedical texts.\n",
        "\n",
        "- **Sentiment Analysis**:\n",
        "  - Features: Sentiment scores, word embeddings, BoW or TF-IDF representations.\n",
        "  - Example Datasets: Social media data (tweets, comments), product reviews.\n",
        "\n",
        "- **Topic Modeling**:\n",
        "  - Features: Topic distributions, word embeddings, BoW or TF-IDF representations.\n",
        "  - Example Datasets: Academic papers (identifying research topics), online forums (identifying discussion topics).\n"
      ],
      "metadata": {
        "id": "ktciO0OYyB03"
      }
    },
    {
      "cell_type": "markdown",
      "source": [
        "---"
      ],
      "metadata": {
        "id": "t1kiFsR10wp1"
      }
    },
    {
      "cell_type": "markdown",
      "source": [
        "---"
      ],
      "metadata": {
        "id": "ntj3Ps0X0xgH"
      }
    },
    {
      "cell_type": "markdown",
      "source": [
        "# IMDB Dataset of 50K Movie Reviews"
      ],
      "metadata": {
        "id": "df9Ni2cJ0zXy"
      }
    },
    {
      "cell_type": "markdown",
      "source": [
        "# Define Library"
      ],
      "metadata": {
        "id": "TeFhXg6fTtJ7"
      }
    },
    {
      "cell_type": "code",
      "source": [
        "import gdown\n",
        "import os\n",
        "import zipfile\n",
        "import pandas as pd\n",
        "import seaborn as sns\n",
        "\n",
        "\n",
        "import matplotlib.pyplot as plt\n",
        "import warnings\n",
        "warnings.filterwarnings('ignore')"
      ],
      "metadata": {
        "id": "4m6TaN9PENLJ"
      },
      "execution_count": null,
      "outputs": []
    },
    {
      "cell_type": "code",
      "source": [
        "url=\"https://drive.google.com/file/d/1xD3t-GybNU6Gqp3ebhYtCWI5wHfchE6X/view?usp=drive_link\"\n",
        "prefix = \"https://drive.google.com/uc?/export=download&id=\"\n",
        "file_name= \"movie_reviews.zip\""
      ],
      "metadata": {
        "id": "Gif4tw2lFIbG"
      },
      "execution_count": null,
      "outputs": []
    },
    {
      "cell_type": "code",
      "source": [
        "def download_zip(url, prefix, file_name):\n",
        "  file_id=url.split(\"/\")[-2]\n",
        "  gdown.download(prefix+file_id , file_name)\n",
        "  print(\"File Downloaded in Colab\")\n",
        "  !unzip \"/content/movie_reviews.zip\"\n"
      ],
      "metadata": {
        "id": "nY9oPWlrE49C"
      },
      "execution_count": null,
      "outputs": []
    },
    {
      "cell_type": "code",
      "source": [
        "download_zip(url, prefix, file_name)\n",
        "\n"
      ],
      "metadata": {
        "colab": {
          "base_uri": "https://localhost:8080/"
        },
        "id": "2UYXCWJFM44O",
        "outputId": "0084c0c2-23e4-43e4-b447-2e500fa6c1b1"
      },
      "execution_count": null,
      "outputs": [
        {
          "output_type": "stream",
          "name": "stderr",
          "text": [
            "Downloading...\n",
            "From (original): https://drive.google.com/uc?/export=download&id=1xD3t-GybNU6Gqp3ebhYtCWI5wHfchE6X\n",
            "From (redirected): https://drive.google.com/uc?/export=download&id=1xD3t-GybNU6Gqp3ebhYtCWI5wHfchE6X&confirm=t&uuid=b3c73744-319e-4b17-a708-99acd5381459\n",
            "To: /content/movie_reviews.zip\n",
            "100%|██████████| 27.0M/27.0M [00:00<00:00, 81.7MB/s]\n"
          ]
        },
        {
          "output_type": "stream",
          "name": "stdout",
          "text": [
            "File Downloaded in Colab\n",
            "Archive:  /content/movie_reviews.zip\n",
            "  inflating: IMDB Dataset.csv        \n"
          ]
        }
      ]
    },
    {
      "cell_type": "markdown",
      "source": [
        "# LOAD DATA in DATASET"
      ],
      "metadata": {
        "id": "OfJEaSWDTS30"
      }
    },
    {
      "cell_type": "code",
      "source": [
        "df = pd.read_csv(\"/content/IMDB Dataset.csv\")"
      ],
      "metadata": {
        "id": "cdl5lTyUM-cN"
      },
      "execution_count": null,
      "outputs": []
    },
    {
      "cell_type": "code",
      "source": [
        "df.head()"
      ],
      "metadata": {
        "colab": {
          "base_uri": "https://localhost:8080/",
          "height": 206
        },
        "id": "cSXykVCIOSF9",
        "outputId": "81873ba3-e8dc-445d-93cb-70627d4d64da"
      },
      "execution_count": null,
      "outputs": [
        {
          "output_type": "execute_result",
          "data": {
            "text/plain": [
              "                                              review sentiment\n",
              "0  One of the other reviewers has mentioned that ...  positive\n",
              "1  A wonderful little production. <br /><br />The...  positive\n",
              "2  I thought this was a wonderful way to spend ti...  positive\n",
              "3  Basically there's a family where a little boy ...  negative\n",
              "4  Petter Mattei's \"Love in the Time of Money\" is...  positive"
            ],
            "text/html": [
              "\n",
              "  <div id=\"df-fc1e3dac-6f07-4f92-a2cc-a42e7e465c77\" class=\"colab-df-container\">\n",
              "    <div>\n",
              "<style scoped>\n",
              "    .dataframe tbody tr th:only-of-type {\n",
              "        vertical-align: middle;\n",
              "    }\n",
              "\n",
              "    .dataframe tbody tr th {\n",
              "        vertical-align: top;\n",
              "    }\n",
              "\n",
              "    .dataframe thead th {\n",
              "        text-align: right;\n",
              "    }\n",
              "</style>\n",
              "<table border=\"1\" class=\"dataframe\">\n",
              "  <thead>\n",
              "    <tr style=\"text-align: right;\">\n",
              "      <th></th>\n",
              "      <th>review</th>\n",
              "      <th>sentiment</th>\n",
              "    </tr>\n",
              "  </thead>\n",
              "  <tbody>\n",
              "    <tr>\n",
              "      <th>0</th>\n",
              "      <td>One of the other reviewers has mentioned that ...</td>\n",
              "      <td>positive</td>\n",
              "    </tr>\n",
              "    <tr>\n",
              "      <th>1</th>\n",
              "      <td>A wonderful little production. &lt;br /&gt;&lt;br /&gt;The...</td>\n",
              "      <td>positive</td>\n",
              "    </tr>\n",
              "    <tr>\n",
              "      <th>2</th>\n",
              "      <td>I thought this was a wonderful way to spend ti...</td>\n",
              "      <td>positive</td>\n",
              "    </tr>\n",
              "    <tr>\n",
              "      <th>3</th>\n",
              "      <td>Basically there's a family where a little boy ...</td>\n",
              "      <td>negative</td>\n",
              "    </tr>\n",
              "    <tr>\n",
              "      <th>4</th>\n",
              "      <td>Petter Mattei's \"Love in the Time of Money\" is...</td>\n",
              "      <td>positive</td>\n",
              "    </tr>\n",
              "  </tbody>\n",
              "</table>\n",
              "</div>\n",
              "    <div class=\"colab-df-buttons\">\n",
              "\n",
              "  <div class=\"colab-df-container\">\n",
              "    <button class=\"colab-df-convert\" onclick=\"convertToInteractive('df-fc1e3dac-6f07-4f92-a2cc-a42e7e465c77')\"\n",
              "            title=\"Convert this dataframe to an interactive table.\"\n",
              "            style=\"display:none;\">\n",
              "\n",
              "  <svg xmlns=\"http://www.w3.org/2000/svg\" height=\"24px\" viewBox=\"0 -960 960 960\">\n",
              "    <path d=\"M120-120v-720h720v720H120Zm60-500h600v-160H180v160Zm220 220h160v-160H400v160Zm0 220h160v-160H400v160ZM180-400h160v-160H180v160Zm440 0h160v-160H620v160ZM180-180h160v-160H180v160Zm440 0h160v-160H620v160Z\"/>\n",
              "  </svg>\n",
              "    </button>\n",
              "\n",
              "  <style>\n",
              "    .colab-df-container {\n",
              "      display:flex;\n",
              "      gap: 12px;\n",
              "    }\n",
              "\n",
              "    .colab-df-convert {\n",
              "      background-color: #E8F0FE;\n",
              "      border: none;\n",
              "      border-radius: 50%;\n",
              "      cursor: pointer;\n",
              "      display: none;\n",
              "      fill: #1967D2;\n",
              "      height: 32px;\n",
              "      padding: 0 0 0 0;\n",
              "      width: 32px;\n",
              "    }\n",
              "\n",
              "    .colab-df-convert:hover {\n",
              "      background-color: #E2EBFA;\n",
              "      box-shadow: 0px 1px 2px rgba(60, 64, 67, 0.3), 0px 1px 3px 1px rgba(60, 64, 67, 0.15);\n",
              "      fill: #174EA6;\n",
              "    }\n",
              "\n",
              "    .colab-df-buttons div {\n",
              "      margin-bottom: 4px;\n",
              "    }\n",
              "\n",
              "    [theme=dark] .colab-df-convert {\n",
              "      background-color: #3B4455;\n",
              "      fill: #D2E3FC;\n",
              "    }\n",
              "\n",
              "    [theme=dark] .colab-df-convert:hover {\n",
              "      background-color: #434B5C;\n",
              "      box-shadow: 0px 1px 3px 1px rgba(0, 0, 0, 0.15);\n",
              "      filter: drop-shadow(0px 1px 2px rgba(0, 0, 0, 0.3));\n",
              "      fill: #FFFFFF;\n",
              "    }\n",
              "  </style>\n",
              "\n",
              "    <script>\n",
              "      const buttonEl =\n",
              "        document.querySelector('#df-fc1e3dac-6f07-4f92-a2cc-a42e7e465c77 button.colab-df-convert');\n",
              "      buttonEl.style.display =\n",
              "        google.colab.kernel.accessAllowed ? 'block' : 'none';\n",
              "\n",
              "      async function convertToInteractive(key) {\n",
              "        const element = document.querySelector('#df-fc1e3dac-6f07-4f92-a2cc-a42e7e465c77');\n",
              "        const dataTable =\n",
              "          await google.colab.kernel.invokeFunction('convertToInteractive',\n",
              "                                                    [key], {});\n",
              "        if (!dataTable) return;\n",
              "\n",
              "        const docLinkHtml = 'Like what you see? Visit the ' +\n",
              "          '<a target=\"_blank\" href=https://colab.research.google.com/notebooks/data_table.ipynb>data table notebook</a>'\n",
              "          + ' to learn more about interactive tables.';\n",
              "        element.innerHTML = '';\n",
              "        dataTable['output_type'] = 'display_data';\n",
              "        await google.colab.output.renderOutput(dataTable, element);\n",
              "        const docLink = document.createElement('div');\n",
              "        docLink.innerHTML = docLinkHtml;\n",
              "        element.appendChild(docLink);\n",
              "      }\n",
              "    </script>\n",
              "  </div>\n",
              "\n",
              "\n",
              "<div id=\"df-bd7be4c5-a9e0-41ce-a607-553cbb509ff6\">\n",
              "  <button class=\"colab-df-quickchart\" onclick=\"quickchart('df-bd7be4c5-a9e0-41ce-a607-553cbb509ff6')\"\n",
              "            title=\"Suggest charts\"\n",
              "            style=\"display:none;\">\n",
              "\n",
              "<svg xmlns=\"http://www.w3.org/2000/svg\" height=\"24px\"viewBox=\"0 0 24 24\"\n",
              "     width=\"24px\">\n",
              "    <g>\n",
              "        <path d=\"M19 3H5c-1.1 0-2 .9-2 2v14c0 1.1.9 2 2 2h14c1.1 0 2-.9 2-2V5c0-1.1-.9-2-2-2zM9 17H7v-7h2v7zm4 0h-2V7h2v10zm4 0h-2v-4h2v4z\"/>\n",
              "    </g>\n",
              "</svg>\n",
              "  </button>\n",
              "\n",
              "<style>\n",
              "  .colab-df-quickchart {\n",
              "      --bg-color: #E8F0FE;\n",
              "      --fill-color: #1967D2;\n",
              "      --hover-bg-color: #E2EBFA;\n",
              "      --hover-fill-color: #174EA6;\n",
              "      --disabled-fill-color: #AAA;\n",
              "      --disabled-bg-color: #DDD;\n",
              "  }\n",
              "\n",
              "  [theme=dark] .colab-df-quickchart {\n",
              "      --bg-color: #3B4455;\n",
              "      --fill-color: #D2E3FC;\n",
              "      --hover-bg-color: #434B5C;\n",
              "      --hover-fill-color: #FFFFFF;\n",
              "      --disabled-bg-color: #3B4455;\n",
              "      --disabled-fill-color: #666;\n",
              "  }\n",
              "\n",
              "  .colab-df-quickchart {\n",
              "    background-color: var(--bg-color);\n",
              "    border: none;\n",
              "    border-radius: 50%;\n",
              "    cursor: pointer;\n",
              "    display: none;\n",
              "    fill: var(--fill-color);\n",
              "    height: 32px;\n",
              "    padding: 0;\n",
              "    width: 32px;\n",
              "  }\n",
              "\n",
              "  .colab-df-quickchart:hover {\n",
              "    background-color: var(--hover-bg-color);\n",
              "    box-shadow: 0 1px 2px rgba(60, 64, 67, 0.3), 0 1px 3px 1px rgba(60, 64, 67, 0.15);\n",
              "    fill: var(--button-hover-fill-color);\n",
              "  }\n",
              "\n",
              "  .colab-df-quickchart-complete:disabled,\n",
              "  .colab-df-quickchart-complete:disabled:hover {\n",
              "    background-color: var(--disabled-bg-color);\n",
              "    fill: var(--disabled-fill-color);\n",
              "    box-shadow: none;\n",
              "  }\n",
              "\n",
              "  .colab-df-spinner {\n",
              "    border: 2px solid var(--fill-color);\n",
              "    border-color: transparent;\n",
              "    border-bottom-color: var(--fill-color);\n",
              "    animation:\n",
              "      spin 1s steps(1) infinite;\n",
              "  }\n",
              "\n",
              "  @keyframes spin {\n",
              "    0% {\n",
              "      border-color: transparent;\n",
              "      border-bottom-color: var(--fill-color);\n",
              "      border-left-color: var(--fill-color);\n",
              "    }\n",
              "    20% {\n",
              "      border-color: transparent;\n",
              "      border-left-color: var(--fill-color);\n",
              "      border-top-color: var(--fill-color);\n",
              "    }\n",
              "    30% {\n",
              "      border-color: transparent;\n",
              "      border-left-color: var(--fill-color);\n",
              "      border-top-color: var(--fill-color);\n",
              "      border-right-color: var(--fill-color);\n",
              "    }\n",
              "    40% {\n",
              "      border-color: transparent;\n",
              "      border-right-color: var(--fill-color);\n",
              "      border-top-color: var(--fill-color);\n",
              "    }\n",
              "    60% {\n",
              "      border-color: transparent;\n",
              "      border-right-color: var(--fill-color);\n",
              "    }\n",
              "    80% {\n",
              "      border-color: transparent;\n",
              "      border-right-color: var(--fill-color);\n",
              "      border-bottom-color: var(--fill-color);\n",
              "    }\n",
              "    90% {\n",
              "      border-color: transparent;\n",
              "      border-bottom-color: var(--fill-color);\n",
              "    }\n",
              "  }\n",
              "</style>\n",
              "\n",
              "  <script>\n",
              "    async function quickchart(key) {\n",
              "      const quickchartButtonEl =\n",
              "        document.querySelector('#' + key + ' button');\n",
              "      quickchartButtonEl.disabled = true;  // To prevent multiple clicks.\n",
              "      quickchartButtonEl.classList.add('colab-df-spinner');\n",
              "      try {\n",
              "        const charts = await google.colab.kernel.invokeFunction(\n",
              "            'suggestCharts', [key], {});\n",
              "      } catch (error) {\n",
              "        console.error('Error during call to suggestCharts:', error);\n",
              "      }\n",
              "      quickchartButtonEl.classList.remove('colab-df-spinner');\n",
              "      quickchartButtonEl.classList.add('colab-df-quickchart-complete');\n",
              "    }\n",
              "    (() => {\n",
              "      let quickchartButtonEl =\n",
              "        document.querySelector('#df-bd7be4c5-a9e0-41ce-a607-553cbb509ff6 button');\n",
              "      quickchartButtonEl.style.display =\n",
              "        google.colab.kernel.accessAllowed ? 'block' : 'none';\n",
              "    })();\n",
              "  </script>\n",
              "</div>\n",
              "\n",
              "    </div>\n",
              "  </div>\n"
            ],
            "application/vnd.google.colaboratory.intrinsic+json": {
              "type": "dataframe",
              "variable_name": "df",
              "summary": "{\n  \"name\": \"df\",\n  \"rows\": 50000,\n  \"fields\": [\n    {\n      \"column\": \"review\",\n      \"properties\": {\n        \"dtype\": \"string\",\n        \"num_unique_values\": 49582,\n        \"samples\": [\n          \"\\\"Soul Plane\\\" is a horrible attempt at comedy that only should appeal people with thick skulls, bloodshot eyes and furry pawns. <br /><br />The plot is not only incoherent but also non-existent, acting is mostly sub sub-par with a gang of highly moronic and dreadful characters thrown in for bad measure, jokes are often spotted miles ahead and almost never even a bit amusing. This movie lacks any structure and is full of racial stereotypes that must have seemed old even in the fifties, the only thing it really has going for it is some pretty ladies, but really, if you want that you can rent something from the \\\"Adult\\\" section. OK?<br /><br />I can hardly see anything here to recommend since you'll probably have a lot a better and productive time chasing rats with a sledgehammer or inventing waterproof teabags or whatever.<br /><br />2/10\",\n          \"Guest from the Future tells a fascinating story of time travel, friendship, battle of good and evil -- all with a small budget, child actors, and few special effects. Something for Spielberg and Lucas to learn from. ;) A sixth-grader Kolya \\\"Nick\\\" Gerasimov finds a time machine in the basement of a decrepit building and travels 100 years into the future. He discovers a near-perfect, utopian society where robots play guitars and write poetry, everyone is kind to each other and people enjoy everything technology has to offer. Alice is the daughter of a prominent scientist who invented a device called Mielophone that allows to read minds of humans and animals. The device can be put to both good and bad use, depending on whose hands it falls into. When two evil space pirates from Saturn who want to rule the universe attempt to steal Mielophone, it falls into the hands of 20th century school boy Nick. With the pirates hot on his tracks, he travels back to his time, followed by the pirates, and Alice. Chaos, confusion and funny situations follow as the luckless pirates try to blend in with the earthlings. Alice enrolls in the same school Nick goes to and demonstrates superhuman abilities in PE class. The catch is, Alice doesn't know what Nick looks like, while the pirates do. Also, the pirates are able to change their appearance and turn literally into anyone. (Hmm, I wonder if this is where James Cameron got the idea for Terminator...) Who gets to Nick -- and Mielophone -- first? Excellent plot, non-stop adventures, and great soundtrack. I wish Hollywood made kid movies like this one...\",\n          \"\\\"National Treasure\\\" (2004) is a thoroughly misguided hodge-podge of plot entanglements that borrow from nearly every cloak and dagger government conspiracy clich\\u00e9 that has ever been written. The film stars Nicholas Cage as Benjamin Franklin Gates (how precious is that, I ask you?); a seemingly normal fellow who, for no other reason than being of a lineage of like-minded misguided fortune hunters, decides to steal a 'national treasure' that has been hidden by the United States founding fathers. After a bit of subtext and background that plays laughably (unintentionally) like Indiana Jones meets The Patriot, the film degenerates into one misguided whimsy after another \\u0096 attempting to create a 'Stanley Goodspeed' regurgitation of Nicholas Cage and launch the whole convoluted mess forward with a series of high octane, but disconnected misadventures.<br /><br />The relevancy and logic to having George Washington and his motley crew of patriots burying a king's ransom someplace on native soil, and then, going through the meticulous plan of leaving clues scattered throughout U.S. currency art work, is something that director Jon Turteltaub never quite gets around to explaining. Couldn't Washington found better usage for such wealth during the start up of the country? Hence, we are left with a mystery built on top of an enigma that is already on shaky ground by the time Ben appoints himself the new custodian of this untold wealth. Ben's intentions are noble \\u0096 if confusing. He's set on protecting the treasure. For who and when?\\u0085your guess is as good as mine.<br /><br />But there are a few problems with Ben's crusade. First up, his friend, Ian Holmes (Sean Bean) decides that he can't wait for Ben to make up his mind about stealing the Declaration of Independence from the National Archives (oh, yeah \\u0096 brilliant idea!). Presumably, the back of that famous document holds the secret answer to the ultimate fortune. So Ian tries to kill Ben. The assassination attempt is, of course, unsuccessful, if overly melodramatic. It also affords Ben the opportunity to pick up, and pick on, the very sultry curator of the archives, Abigail Chase (Diane Kruger). She thinks Ben is clearly a nut \\u0096 at least at the beginning. But true to action/romance form, Abby's resolve melts quicker than you can say, \\\"is that the Hope Diamond?\\\" The film moves into full X-File-ish mode, as the FBI, mistakenly believing that Ben is behind the theft, retaliate in various benign ways that lead to a multi-layering of action sequences reminiscent of Mission Impossible meets The Fugitive. Honestly, don't those guys ever get 'intelligence' information that is correct? In the final analysis, \\\"National Treasure\\\" isn't great film making, so much as it's a patchwork rehash of tired old bits from other movies, woven together from scraps, the likes of which would make IL' Betsy Ross blush.<br /><br />The Buena Vista DVD delivers a far more generous treatment than this film is deserving of. The anamorphic widescreen picture exhibits a very smooth and finely detailed image with very rich colors, natural flesh tones, solid blacks and clean whites. The stylized image is also free of blemishes and digital enhancements. The audio is 5.1 and delivers a nice sonic boom to your side and rear speakers with intensity and realism. Extras include a host of promotional junket material that is rather deep and over the top in its explanation of how and why this film was made. If only, as an audience, we had had more clarification as to why Ben and co. were chasing after an illusive treasure, this might have been one good flick. Extras conclude with the theatrical trailer, audio commentary and deleted scenes. Not for the faint-hearted \\u0096 just the thick-headed.\"\n        ],\n        \"semantic_type\": \"\",\n        \"description\": \"\"\n      }\n    },\n    {\n      \"column\": \"sentiment\",\n      \"properties\": {\n        \"dtype\": \"category\",\n        \"num_unique_values\": 2,\n        \"samples\": [\n          \"negative\",\n          \"positive\"\n        ],\n        \"semantic_type\": \"\",\n        \"description\": \"\"\n      }\n    }\n  ]\n}"
            }
          },
          "metadata": {},
          "execution_count": 28
        }
      ]
    },
    {
      "cell_type": "markdown",
      "source": [
        "First will understand the sentiment by ploting the distribution"
      ],
      "metadata": {
        "id": "RuvgyAPkQROU"
      }
    },
    {
      "cell_type": "markdown",
      "source": [
        "# UNDERSTAND DISTRIBUTION OF OUTPUT COLUMN"
      ],
      "metadata": {
        "id": "Xrh3EctQTYVz"
      }
    },
    {
      "cell_type": "code",
      "source": [
        "sns.countplot(x='sentiment' , data=df)\n",
        "plt.xlabel('Sentiments')\n",
        "plt.ylabel(\"count\")\n",
        "plt.title(\"Distribution of Sentiments\")\n",
        "plt.show()"
      ],
      "metadata": {
        "colab": {
          "base_uri": "https://localhost:8080/",
          "height": 472
        },
        "id": "7TX4WenFQYmE",
        "outputId": "11d5a8bb-7174-4b0f-aff5-405904100fb4"
      },
      "execution_count": null,
      "outputs": [
        {
          "output_type": "display_data",
          "data": {
            "text/plain": [
              "<Figure size 640x480 with 1 Axes>"
            ],
            "image/png": "[encoded data removed]"
          },
          "metadata": {}
        }
      ]
    },
    {
      "cell_type": "markdown",
      "source": [
        "- From the distribution we could understand the both positive and negative sentiments are equal"
      ],
      "metadata": {
        "id": "de_LDWcURrNu"
      }
    },
    {
      "cell_type": "markdown",
      "source": [
        "# DATA PREPROCESSING"
      ],
      "metadata": {
        "id": "cXPzaRDOTeaQ"
      }
    },
    {
      "cell_type": "code",
      "source": [
        "df.describe()"
      ],
      "metadata": {
        "colab": {
          "base_uri": "https://localhost:8080/",
          "height": 175
        },
        "id": "iD1-KiylQ-pU",
        "outputId": "8b1cf917-b76f-4722-9d52-7d031cce6b79"
      },
      "execution_count": null,
      "outputs": [
        {
          "output_type": "execute_result",
          "data": {
            "text/plain": [
              "                                                   review sentiment\n",
              "count                                               50000     50000\n",
              "unique                                              49582         2\n",
              "top     Loved today's show!!! It was a variety and not...  positive\n",
              "freq                                                    5     25000"
            ],
            "text/html": [
              "\n",
              "  <div id=\"df-88a55929-5776-4839-88a2-bcbef76bd60c\" class=\"colab-df-container\">\n",
              "    <div>\n",
              "<style scoped>\n",
              "    .dataframe tbody tr th:only-of-type {\n",
              "        vertical-align: middle;\n",
              "    }\n",
              "\n",
              "    .dataframe tbody tr th {\n",
              "        vertical-align: top;\n",
              "    }\n",
              "\n",
              "    .dataframe thead th {\n",
              "        text-align: right;\n",
              "    }\n",
              "</style>\n",
              "<table border=\"1\" class=\"dataframe\">\n",
              "  <thead>\n",
              "    <tr style=\"text-align: right;\">\n",
              "      <th></th>\n",
              "      <th>review</th>\n",
              "      <th>sentiment</th>\n",
              "    </tr>\n",
              "  </thead>\n",
              "  <tbody>\n",
              "    <tr>\n",
              "      <th>count</th>\n",
              "      <td>50000</td>\n",
              "      <td>50000</td>\n",
              "    </tr>\n",
              "    <tr>\n",
              "      <th>unique</th>\n",
              "      <td>49582</td>\n",
              "      <td>2</td>\n",
              "    </tr>\n",
              "    <tr>\n",
              "      <th>top</th>\n",
              "      <td>Loved today's show!!! It was a variety and not...</td>\n",
              "      <td>positive</td>\n",
              "    </tr>\n",
              "    <tr>\n",
              "      <th>freq</th>\n",
              "      <td>5</td>\n",
              "      <td>25000</td>\n",
              "    </tr>\n",
              "  </tbody>\n",
              "</table>\n",
              "</div>\n",
              "    <div class=\"colab-df-buttons\">\n",
              "\n",
              "  <div class=\"colab-df-container\">\n",
              "    <button class=\"colab-df-convert\" onclick=\"convertToInteractive('df-88a55929-5776-4839-88a2-bcbef76bd60c')\"\n",
              "            title=\"Convert this dataframe to an interactive table.\"\n",
              "            style=\"display:none;\">\n",
              "\n",
              "  <svg xmlns=\"http://www.w3.org/2000/svg\" height=\"24px\" viewBox=\"0 -960 960 960\">\n",
              "    <path d=\"M120-120v-720h720v720H120Zm60-500h600v-160H180v160Zm220 220h160v-160H400v160Zm0 220h160v-160H400v160ZM180-400h160v-160H180v160Zm440 0h160v-160H620v160ZM180-180h160v-160H180v160Zm440 0h160v-160H620v160Z\"/>\n",
              "  </svg>\n",
              "    </button>\n",
              "\n",
              "  <style>\n",
              "    .colab-df-container {\n",
              "      display:flex;\n",
              "      gap: 12px;\n",
              "    }\n",
              "\n",
              "    .colab-df-convert {\n",
              "      background-color: #E8F0FE;\n",
              "      border: none;\n",
              "      border-radius: 50%;\n",
              "      cursor: pointer;\n",
              "      display: none;\n",
              "      fill: #1967D2;\n",
              "      height: 32px;\n",
              "      padding: 0 0 0 0;\n",
              "      width: 32px;\n",
              "    }\n",
              "\n",
              "    .colab-df-convert:hover {\n",
              "      background-color: #E2EBFA;\n",
              "      box-shadow: 0px 1px 2px rgba(60, 64, 67, 0.3), 0px 1px 3px 1px rgba(60, 64, 67, 0.15);\n",
              "      fill: #174EA6;\n",
              "    }\n",
              "\n",
              "    .colab-df-buttons div {\n",
              "      margin-bottom: 4px;\n",
              "    }\n",
              "\n",
              "    [theme=dark] .colab-df-convert {\n",
              "      background-color: #3B4455;\n",
              "      fill: #D2E3FC;\n",
              "    }\n",
              "\n",
              "    [theme=dark] .colab-df-convert:hover {\n",
              "      background-color: #434B5C;\n",
              "      box-shadow: 0px 1px 3px 1px rgba(0, 0, 0, 0.15);\n",
              "      filter: drop-shadow(0px 1px 2px rgba(0, 0, 0, 0.3));\n",
              "      fill: #FFFFFF;\n",
              "    }\n",
              "  </style>\n",
              "\n",
              "    <script>\n",
              "      const buttonEl =\n",
              "        document.querySelector('#df-88a55929-5776-4839-88a2-bcbef76bd60c button.colab-df-convert');\n",
              "      buttonEl.style.display =\n",
              "        google.colab.kernel.accessAllowed ? 'block' : 'none';\n",
              "\n",
              "      async function convertToInteractive(key) {\n",
              "        const element = document.querySelector('#df-88a55929-5776-4839-88a2-bcbef76bd60c');\n",
              "        const dataTable =\n",
              "          await google.colab.kernel.invokeFunction('convertToInteractive',\n",
              "                                                    [key], {});\n",
              "        if (!dataTable) return;\n",
              "\n",
              "        const docLinkHtml = 'Like what you see? Visit the ' +\n",
              "          '<a target=\"_blank\" href=https://colab.research.google.com/notebooks/data_table.ipynb>data table notebook</a>'\n",
              "          + ' to learn more about interactive tables.';\n",
              "        element.innerHTML = '';\n",
              "        dataTable['output_type'] = 'display_data';\n",
              "        await google.colab.output.renderOutput(dataTable, element);\n",
              "        const docLink = document.createElement('div');\n",
              "        docLink.innerHTML = docLinkHtml;\n",
              "        element.appendChild(docLink);\n",
              "      }\n",
              "    </script>\n",
              "  </div>\n",
              "\n",
              "\n",
              "<div id=\"df-b1d1b65a-7e14-4f7f-a1c1-a40e42b0460e\">\n",
              "  <button class=\"colab-df-quickchart\" onclick=\"quickchart('df-b1d1b65a-7e14-4f7f-a1c1-a40e42b0460e')\"\n",
              "            title=\"Suggest charts\"\n",
              "            style=\"display:none;\">\n",
              "\n",
              "<svg xmlns=\"http://www.w3.org/2000/svg\" height=\"24px\"viewBox=\"0 0 24 24\"\n",
              "     width=\"24px\">\n",
              "    <g>\n",
              "        <path d=\"M19 3H5c-1.1 0-2 .9-2 2v14c0 1.1.9 2 2 2h14c1.1 0 2-.9 2-2V5c0-1.1-.9-2-2-2zM9 17H7v-7h2v7zm4 0h-2V7h2v10zm4 0h-2v-4h2v4z\"/>\n",
              "    </g>\n",
              "</svg>\n",
              "  </button>\n",
              "\n",
              "<style>\n",
              "  .colab-df-quickchart {\n",
              "      --bg-color: #E8F0FE;\n",
              "      --fill-color: #1967D2;\n",
              "      --hover-bg-color: #E2EBFA;\n",
              "      --hover-fill-color: #174EA6;\n",
              "      --disabled-fill-color: #AAA;\n",
              "      --disabled-bg-color: #DDD;\n",
              "  }\n",
              "\n",
              "  [theme=dark] .colab-df-quickchart {\n",
              "      --bg-color: #3B4455;\n",
              "      --fill-color: #D2E3FC;\n",
              "      --hover-bg-color: #434B5C;\n",
              "      --hover-fill-color: #FFFFFF;\n",
              "      --disabled-bg-color: #3B4455;\n",
              "      --disabled-fill-color: #666;\n",
              "  }\n",
              "\n",
              "  .colab-df-quickchart {\n",
              "    background-color: var(--bg-color);\n",
              "    border: none;\n",
              "    border-radius: 50%;\n",
              "    cursor: pointer;\n",
              "    display: none;\n",
              "    fill: var(--fill-color);\n",
              "    height: 32px;\n",
              "    padding: 0;\n",
              "    width: 32px;\n",
              "  }\n",
              "\n",
              "  .colab-df-quickchart:hover {\n",
              "    background-color: var(--hover-bg-color);\n",
              "    box-shadow: 0 1px 2px rgba(60, 64, 67, 0.3), 0 1px 3px 1px rgba(60, 64, 67, 0.15);\n",
              "    fill: var(--button-hover-fill-color);\n",
              "  }\n",
              "\n",
              "  .colab-df-quickchart-complete:disabled,\n",
              "  .colab-df-quickchart-complete:disabled:hover {\n",
              "    background-color: var(--disabled-bg-color);\n",
              "    fill: var(--disabled-fill-color);\n",
              "    box-shadow: none;\n",
              "  }\n",
              "\n",
              "  .colab-df-spinner {\n",
              "    border: 2px solid var(--fill-color);\n",
              "    border-color: transparent;\n",
              "    border-bottom-color: var(--fill-color);\n",
              "    animation:\n",
              "      spin 1s steps(1) infinite;\n",
              "  }\n",
              "\n",
              "  @keyframes spin {\n",
              "    0% {\n",
              "      border-color: transparent;\n",
              "      border-bottom-color: var(--fill-color);\n",
              "      border-left-color: var(--fill-color);\n",
              "    }\n",
              "    20% {\n",
              "      border-color: transparent;\n",
              "      border-left-color: var(--fill-color);\n",
              "      border-top-color: var(--fill-color);\n",
              "    }\n",
              "    30% {\n",
              "      border-color: transparent;\n",
              "      border-left-color: var(--fill-color);\n",
              "      border-top-color: var(--fill-color);\n",
              "      border-right-color: var(--fill-color);\n",
              "    }\n",
              "    40% {\n",
              "      border-color: transparent;\n",
              "      border-right-color: var(--fill-color);\n",
              "      border-top-color: var(--fill-color);\n",
              "    }\n",
              "    60% {\n",
              "      border-color: transparent;\n",
              "      border-right-color: var(--fill-color);\n",
              "    }\n",
              "    80% {\n",
              "      border-color: transparent;\n",
              "      border-right-color: var(--fill-color);\n",
              "      border-bottom-color: var(--fill-color);\n",
              "    }\n",
              "    90% {\n",
              "      border-color: transparent;\n",
              "      border-bottom-color: var(--fill-color);\n",
              "    }\n",
              "  }\n",
              "</style>\n",
              "\n",
              "  <script>\n",
              "    async function quickchart(key) {\n",
              "      const quickchartButtonEl =\n",
              "        document.querySelector('#' + key + ' button');\n",
              "      quickchartButtonEl.disabled = true;  // To prevent multiple clicks.\n",
              "      quickchartButtonEl.classList.add('colab-df-spinner');\n",
              "      try {\n",
              "        const charts = await google.colab.kernel.invokeFunction(\n",
              "            'suggestCharts', [key], {});\n",
              "      } catch (error) {\n",
              "        console.error('Error during call to suggestCharts:', error);\n",
              "      }\n",
              "      quickchartButtonEl.classList.remove('colab-df-spinner');\n",
              "      quickchartButtonEl.classList.add('colab-df-quickchart-complete');\n",
              "    }\n",
              "    (() => {\n",
              "      let quickchartButtonEl =\n",
              "        document.querySelector('#df-b1d1b65a-7e14-4f7f-a1c1-a40e42b0460e button');\n",
              "      quickchartButtonEl.style.display =\n",
              "        google.colab.kernel.accessAllowed ? 'block' : 'none';\n",
              "    })();\n",
              "  </script>\n",
              "</div>\n",
              "\n",
              "    </div>\n",
              "  </div>\n"
            ],
            "application/vnd.google.colaboratory.intrinsic+json": {
              "type": "dataframe",
              "summary": "{\n  \"name\": \"df\",\n  \"rows\": 4,\n  \"fields\": [\n    {\n      \"column\": \"review\",\n      \"properties\": {\n        \"dtype\": \"string\",\n        \"num_unique_values\": 4,\n        \"samples\": [\n          49582,\n          \"5\",\n          \"50000\"\n        ],\n        \"semantic_type\": \"\",\n        \"description\": \"\"\n      }\n    },\n    {\n      \"column\": \"sentiment\",\n      \"properties\": {\n        \"dtype\": \"string\",\n        \"num_unique_values\": 4,\n        \"samples\": [\n          2,\n          \"25000\",\n          \"50000\"\n        ],\n        \"semantic_type\": \"\",\n        \"description\": \"\"\n      }\n    }\n  ]\n}"
            }
          },
          "metadata": {},
          "execution_count": 30
        }
      ]
    },
    {
      "cell_type": "code",
      "source": [
        "df.dtypes"
      ],
      "metadata": {
        "colab": {
          "base_uri": "https://localhost:8080/"
        },
        "id": "2s5l193QR1B8",
        "outputId": "f0bd8e74-e170-464b-e2a5-ab6ae6ebac1f"
      },
      "execution_count": null,
      "outputs": [
        {
          "output_type": "execute_result",
          "data": {
            "text/plain": [
              "review       object\n",
              "sentiment    object\n",
              "dtype: object"
            ]
          },
          "metadata": {},
          "execution_count": 31
        }
      ]
    },
    {
      "cell_type": "code",
      "source": [
        "df.isnull().sum()"
      ],
      "metadata": {
        "colab": {
          "base_uri": "https://localhost:8080/"
        },
        "id": "FFOZEvNZSfXU",
        "outputId": "b6b90bd6-cb00-4346-a55f-498537474b00"
      },
      "execution_count": null,
      "outputs": [
        {
          "output_type": "execute_result",
          "data": {
            "text/plain": [
              "review       0\n",
              "sentiment    0\n",
              "dtype: int64"
            ]
          },
          "metadata": {},
          "execution_count": 32
        }
      ]
    },
    {
      "cell_type": "code",
      "source": [
        "df.info()"
      ],
      "metadata": {
        "colab": {
          "base_uri": "https://localhost:8080/"
        },
        "id": "scu8ZfaiSi7E",
        "outputId": "c53256f1-2d80-47dc-ac3c-fb768ebd8660"
      },
      "execution_count": null,
      "outputs": [
        {
          "output_type": "stream",
          "name": "stdout",
          "text": [
            "<class 'pandas.core.frame.DataFrame'>\n",
            "RangeIndex: 50000 entries, 0 to 49999\n",
            "Data columns (total 2 columns):\n",
            " #   Column     Non-Null Count  Dtype \n",
            "---  ------     --------------  ----- \n",
            " 0   review     50000 non-null  object\n",
            " 1   sentiment  50000 non-null  object\n",
            "dtypes: object(2)\n",
            "memory usage: 781.4+ KB\n"
          ]
        }
      ]
    },
    {
      "cell_type": "code",
      "source": [
        "df.duplicated().sum()"
      ],
      "metadata": {
        "colab": {
          "base_uri": "https://localhost:8080/"
        },
        "id": "sG2cvdOIgENc",
        "outputId": "6b51c840-7946-4b3c-e945-54272d544bae"
      },
      "execution_count": null,
      "outputs": [
        {
          "output_type": "execute_result",
          "data": {
            "text/plain": [
              "418"
            ]
          },
          "metadata": {},
          "execution_count": 34
        }
      ]
    },
    {
      "cell_type": "code",
      "source": [
        "df.drop_duplicates(inplace = True)"
      ],
      "metadata": {
        "id": "hSUBhh3pgJHU"
      },
      "execution_count": null,
      "outputs": []
    },
    {
      "cell_type": "code",
      "source": [
        "df.duplicated().sum()"
      ],
      "metadata": {
        "colab": {
          "base_uri": "https://localhost:8080/"
        },
        "id": "y3O13oi2gTRB",
        "outputId": "33199fcd-ecf8-4fc2-edcf-3c6e7ef0af63"
      },
      "execution_count": null,
      "outputs": [
        {
          "output_type": "execute_result",
          "data": {
            "text/plain": [
              "0"
            ]
          },
          "metadata": {},
          "execution_count": 36
        }
      ]
    },
    {
      "cell_type": "markdown",
      "source": [
        "Data Seems to be good no missing values no duplicates , data types are good"
      ],
      "metadata": {
        "id": "U7eFzY3FTkDX"
      }
    },
    {
      "cell_type": "markdown",
      "source": [
        "# BEFORE PROCESING WILL UNDERSTAND THE DATASET BY FOLLOWING QUESTIONS\n",
        "\n",
        "- Find out the Corpus total size\n",
        "- find out the document char size and word size\n",
        "- find out the bigrams and trygrams\n",
        "- find out the vocabulary\n"
      ],
      "metadata": {
        "id": "g33OO0ddbuK-"
      }
    },
    {
      "cell_type": "code",
      "source": [
        "corpus_count = df['review'].count()\n",
        "print(\"Document Count : \", corpus_count)"
      ],
      "metadata": {
        "colab": {
          "base_uri": "https://localhost:8080/"
        },
        "id": "_Yi1Jpf6alYZ",
        "outputId": "3bc60062-cb8d-4ce1-fbef-0994f1a06778"
      },
      "execution_count": null,
      "outputs": [
        {
          "output_type": "stream",
          "name": "stdout",
          "text": [
            "Document Count :  49582\n"
          ]
        }
      ]
    },
    {
      "cell_type": "code",
      "source": [
        "total_word_count = df['review'].str.split().apply(len).sum()\n",
        "print(f\"total words in Corpus is : {total_word_count}\")"
      ],
      "metadata": {
        "colab": {
          "base_uri": "https://localhost:8080/"
        },
        "id": "SdLwVYRfdqZf",
        "outputId": "5615dc18-a26d-40d6-9ef8-812a6e0adaf9"
      },
      "execution_count": null,
      "outputs": [
        {
          "output_type": "stream",
          "name": "stdout",
          "text": [
            "total words in Corpus is : 11470804\n"
          ]
        }
      ]
    },
    {
      "cell_type": "markdown",
      "source": [
        "## Sentence and Word Tokenize"
      ],
      "metadata": {
        "id": "-JipGsGThfab"
      }
    },
    {
      "cell_type": "code",
      "source": [
        "from nltk.tokenize import sent_tokenize, word_tokenize\n",
        "import nltk\n",
        "nltk.download('punkt')"
      ],
      "metadata": {
        "colab": {
          "base_uri": "https://localhost:8080/"
        },
        "id": "18okF5nMgs4H",
        "outputId": "7d020a7b-4e16-43eb-efc5-bb6570b07558"
      },
      "execution_count": null,
      "outputs": [
        {
          "output_type": "stream",
          "name": "stderr",
          "text": [
            "[nltk_data] Downloading package punkt to /root/nltk_data...\n",
            "[nltk_data]   Package punkt is already up-to-date!\n"
          ]
        },
        {
          "output_type": "execute_result",
          "data": {
            "text/plain": [
              "True"
            ]
          },
          "metadata": {},
          "execution_count": 39
        }
      ]
    },
    {
      "cell_type": "code",
      "source": [
        "sentence = []\n",
        "for sent in df['review']:\n",
        "  sent_token = sent_tokenize(sent)\n",
        "  sentence.append(sent_token)\n",
        "print(len(sentence))\n"
      ],
      "metadata": {
        "colab": {
          "base_uri": "https://localhost:8080/"
        },
        "id": "elQnFPvZhwoG",
        "outputId": "439fb901-1134-43c4-ca81-d66fdf9f4d23"
      },
      "execution_count": null,
      "outputs": [
        {
          "output_type": "stream",
          "name": "stdout",
          "text": [
            "49582\n"
          ]
        }
      ]
    },
    {
      "cell_type": "markdown",
      "source": [
        "## VOCABULARY"
      ],
      "metadata": {
        "id": "Qn9I-dKep0FV"
      }
    },
    {
      "cell_type": "code",
      "source": [
        "from sklearn.feature_extraction.text import CountVectorizer\n",
        "cv= CountVectorizer()\n",
        "bow=cv.fit_transform(df['review'])\n",
        "print(f\"Total Unique Words in Movie Review Dataset : {len(cv.vocabulary_)}\")"
      ],
      "metadata": {
        "colab": {
          "base_uri": "https://localhost:8080/"
        },
        "id": "f4RBUwIop167",
        "outputId": "7f4ad26e-93d1-4aa0-fe2e-a19577199579"
      },
      "execution_count": null,
      "outputs": [
        {
          "output_type": "stream",
          "name": "stdout",
          "text": [
            "Total Unique Words in Movie Review Dataset : 101895\n"
          ]
        }
      ]
    },
    {
      "cell_type": "markdown",
      "source": [
        "- Find the most occured words\n",
        "- Apply bag of bi-grams and bag of tri-grams and write down your observation obout the dimensionality of the vocabulary\n",
        "- apply  tf-idf and find out the idf scores of words, also find out the vocabulary"
      ],
      "metadata": {
        "id": "0QRnnWtvsf3D"
      }
    },
    {
      "cell_type": "markdown",
      "source": [
        "# NLP Preprocessing Workflow Index\n",
        "\n",
        "1. [Inspecting Data](#Inspecting)\n",
        "2. [Cleaning](#cleaning)\n",
        "   - [HTML Tag Removal](#html-tag-removal)\n",
        "   - [Emoji Removal](#emoji-removal)\n",
        "   - [Spelling Correction](#spelling-correction)\n",
        "\n",
        "3. [Basic Preprocessing](#basic-preprocessing)\n",
        "   - [Tokenization](#tokenization)\n",
        "     - [Sentence Tokenization](#sentence-tokenization)\n",
        "     - [Word Tokenization](#word-tokenization)\n",
        "\n",
        "4. [Advance Preprocessing](#advance-preprocessing)\n",
        "   - [Stopwords Removal](#stopwords-removal)\n",
        "   - [Stemming](#stemming)\n",
        "   - [Remove Digits and Punctuation](#remove-digits-and-punctuation)\n",
        "   - [Lowercasing](#lowercasing)\n",
        "   - [Language Detection](#language-detection)\n"
      ],
      "metadata": {
        "id": "rK1jBc-yTwBc"
      }
    },
    {
      "cell_type": "code",
      "source": [
        "df.head()"
      ],
      "metadata": {
        "colab": {
          "base_uri": "https://localhost:8080/",
          "height": 206
        },
        "id": "IDmZzLgRSpWr",
        "outputId": "0fd2c1e0-4fab-4d0d-8130-7d721471cadf"
      },
      "execution_count": null,
      "outputs": [
        {
          "output_type": "execute_result",
          "data": {
            "text/plain": [
              "                                              review sentiment\n",
              "0  One of the other reviewers has mentioned that ...  positive\n",
              "1  A wonderful little production. <br /><br />The...  positive\n",
              "2  I thought this was a wonderful way to spend ti...  positive\n",
              "3  Basically there's a family where a little boy ...  negative\n",
              "4  Petter Mattei's \"Love in the Time of Money\" is...  positive"
            ],
            "text/html": [
              "\n",
              "  <div id=\"df-f51ac28c-a23e-4fe7-b300-980915edd20e\" class=\"colab-df-container\">\n",
              "    <div>\n",
              "<style scoped>\n",
              "    .dataframe tbody tr th:only-of-type {\n",
              "        vertical-align: middle;\n",
              "    }\n",
              "\n",
              "    .dataframe tbody tr th {\n",
              "        vertical-align: top;\n",
              "    }\n",
              "\n",
              "    .dataframe thead th {\n",
              "        text-align: right;\n",
              "    }\n",
              "</style>\n",
              "<table border=\"1\" class=\"dataframe\">\n",
              "  <thead>\n",
              "    <tr style=\"text-align: right;\">\n",
              "      <th></th>\n",
              "      <th>review</th>\n",
              "      <th>sentiment</th>\n",
              "    </tr>\n",
              "  </thead>\n",
              "  <tbody>\n",
              "    <tr>\n",
              "      <th>0</th>\n",
              "      <td>One of the other reviewers has mentioned that ...</td>\n",
              "      <td>positive</td>\n",
              "    </tr>\n",
              "    <tr>\n",
              "      <th>1</th>\n",
              "      <td>A wonderful little production. &lt;br /&gt;&lt;br /&gt;The...</td>\n",
              "      <td>positive</td>\n",
              "    </tr>\n",
              "    <tr>\n",
              "      <th>2</th>\n",
              "      <td>I thought this was a wonderful way to spend ti...</td>\n",
              "      <td>positive</td>\n",
              "    </tr>\n",
              "    <tr>\n",
              "      <th>3</th>\n",
              "      <td>Basically there's a family where a little boy ...</td>\n",
              "      <td>negative</td>\n",
              "    </tr>\n",
              "    <tr>\n",
              "      <th>4</th>\n",
              "      <td>Petter Mattei's \"Love in the Time of Money\" is...</td>\n",
              "      <td>positive</td>\n",
              "    </tr>\n",
              "  </tbody>\n",
              "</table>\n",
              "</div>\n",
              "    <div class=\"colab-df-buttons\">\n",
              "\n",
              "  <div class=\"colab-df-container\">\n",
              "    <button class=\"colab-df-convert\" onclick=\"convertToInteractive('df-f51ac28c-a23e-4fe7-b300-980915edd20e')\"\n",
              "            title=\"Convert this dataframe to an interactive table.\"\n",
              "            style=\"display:none;\">\n",
              "\n",
              "  <svg xmlns=\"http://www.w3.org/2000/svg\" height=\"24px\" viewBox=\"0 -960 960 960\">\n",
              "    <path d=\"M120-120v-720h720v720H120Zm60-500h600v-160H180v160Zm220 220h160v-160H400v160Zm0 220h160v-160H400v160ZM180-400h160v-160H180v160Zm440 0h160v-160H620v160ZM180-180h160v-160H180v160Zm440 0h160v-160H620v160Z\"/>\n",
              "  </svg>\n",
              "    </button>\n",
              "\n",
              "  <style>\n",
              "    .colab-df-container {\n",
              "      display:flex;\n",
              "      gap: 12px;\n",
              "    }\n",
              "\n",
              "    .colab-df-convert {\n",
              "      background-color: #E8F0FE;\n",
              "      border: none;\n",
              "      border-radius: 50%;\n",
              "      cursor: pointer;\n",
              "      display: none;\n",
              "      fill: #1967D2;\n",
              "      height: 32px;\n",
              "      padding: 0 0 0 0;\n",
              "      width: 32px;\n",
              "    }\n",
              "\n",
              "    .colab-df-convert:hover {\n",
              "      background-color: #E2EBFA;\n",
              "      box-shadow: 0px 1px 2px rgba(60, 64, 67, 0.3), 0px 1px 3px 1px rgba(60, 64, 67, 0.15);\n",
              "      fill: #174EA6;\n",
              "    }\n",
              "\n",
              "    .colab-df-buttons div {\n",
              "      margin-bottom: 4px;\n",
              "    }\n",
              "\n",
              "    [theme=dark] .colab-df-convert {\n",
              "      background-color: #3B4455;\n",
              "      fill: #D2E3FC;\n",
              "    }\n",
              "\n",
              "    [theme=dark] .colab-df-convert:hover {\n",
              "      background-color: #434B5C;\n",
              "      box-shadow: 0px 1px 3px 1px rgba(0, 0, 0, 0.15);\n",
              "      filter: drop-shadow(0px 1px 2px rgba(0, 0, 0, 0.3));\n",
              "      fill: #FFFFFF;\n",
              "    }\n",
              "  </style>\n",
              "\n",
              "    <script>\n",
              "      const buttonEl =\n",
              "        document.querySelector('#df-f51ac28c-a23e-4fe7-b300-980915edd20e button.colab-df-convert');\n",
              "      buttonEl.style.display =\n",
              "        google.colab.kernel.accessAllowed ? 'block' : 'none';\n",
              "\n",
              "      async function convertToInteractive(key) {\n",
              "        const element = document.querySelector('#df-f51ac28c-a23e-4fe7-b300-980915edd20e');\n",
              "        const dataTable =\n",
              "          await google.colab.kernel.invokeFunction('convertToInteractive',\n",
              "                                                    [key], {});\n",
              "        if (!dataTable) return;\n",
              "\n",
              "        const docLinkHtml = 'Like what you see? Visit the ' +\n",
              "          '<a target=\"_blank\" href=https://colab.research.google.com/notebooks/data_table.ipynb>data table notebook</a>'\n",
              "          + ' to learn more about interactive tables.';\n",
              "        element.innerHTML = '';\n",
              "        dataTable['output_type'] = 'display_data';\n",
              "        await google.colab.output.renderOutput(dataTable, element);\n",
              "        const docLink = document.createElement('div');\n",
              "        docLink.innerHTML = docLinkHtml;\n",
              "        element.appendChild(docLink);\n",
              "      }\n",
              "    </script>\n",
              "  </div>\n",
              "\n",
              "\n",
              "<div id=\"df-67a34197-5a73-4301-8136-e1c0ceee186f\">\n",
              "  <button class=\"colab-df-quickchart\" onclick=\"quickchart('df-67a34197-5a73-4301-8136-e1c0ceee186f')\"\n",
              "            title=\"Suggest charts\"\n",
              "            style=\"display:none;\">\n",
              "\n",
              "<svg xmlns=\"http://www.w3.org/2000/svg\" height=\"24px\"viewBox=\"0 0 24 24\"\n",
              "     width=\"24px\">\n",
              "    <g>\n",
              "        <path d=\"M19 3H5c-1.1 0-2 .9-2 2v14c0 1.1.9 2 2 2h14c1.1 0 2-.9 2-2V5c0-1.1-.9-2-2-2zM9 17H7v-7h2v7zm4 0h-2V7h2v10zm4 0h-2v-4h2v4z\"/>\n",
              "    </g>\n",
              "</svg>\n",
              "  </button>\n",
              "\n",
              "<style>\n",
              "  .colab-df-quickchart {\n",
              "      --bg-color: #E8F0FE;\n",
              "      --fill-color: #1967D2;\n",
              "      --hover-bg-color: #E2EBFA;\n",
              "      --hover-fill-color: #174EA6;\n",
              "      --disabled-fill-color: #AAA;\n",
              "      --disabled-bg-color: #DDD;\n",
              "  }\n",
              "\n",
              "  [theme=dark] .colab-df-quickchart {\n",
              "      --bg-color: #3B4455;\n",
              "      --fill-color: #D2E3FC;\n",
              "      --hover-bg-color: #434B5C;\n",
              "      --hover-fill-color: #FFFFFF;\n",
              "      --disabled-bg-color: #3B4455;\n",
              "      --disabled-fill-color: #666;\n",
              "  }\n",
              "\n",
              "  .colab-df-quickchart {\n",
              "    background-color: var(--bg-color);\n",
              "    border: none;\n",
              "    border-radius: 50%;\n",
              "    cursor: pointer;\n",
              "    display: none;\n",
              "    fill: var(--fill-color);\n",
              "    height: 32px;\n",
              "    padding: 0;\n",
              "    width: 32px;\n",
              "  }\n",
              "\n",
              "  .colab-df-quickchart:hover {\n",
              "    background-color: var(--hover-bg-color);\n",
              "    box-shadow: 0 1px 2px rgba(60, 64, 67, 0.3), 0 1px 3px 1px rgba(60, 64, 67, 0.15);\n",
              "    fill: var(--button-hover-fill-color);\n",
              "  }\n",
              "\n",
              "  .colab-df-quickchart-complete:disabled,\n",
              "  .colab-df-quickchart-complete:disabled:hover {\n",
              "    background-color: var(--disabled-bg-color);\n",
              "    fill: var(--disabled-fill-color);\n",
              "    box-shadow: none;\n",
              "  }\n",
              "\n",
              "  .colab-df-spinner {\n",
              "    border: 2px solid var(--fill-color);\n",
              "    border-color: transparent;\n",
              "    border-bottom-color: var(--fill-color);\n",
              "    animation:\n",
              "      spin 1s steps(1) infinite;\n",
              "  }\n",
              "\n",
              "  @keyframes spin {\n",
              "    0% {\n",
              "      border-color: transparent;\n",
              "      border-bottom-color: var(--fill-color);\n",
              "      border-left-color: var(--fill-color);\n",
              "    }\n",
              "    20% {\n",
              "      border-color: transparent;\n",
              "      border-left-color: var(--fill-color);\n",
              "      border-top-color: var(--fill-color);\n",
              "    }\n",
              "    30% {\n",
              "      border-color: transparent;\n",
              "      border-left-color: var(--fill-color);\n",
              "      border-top-color: var(--fill-color);\n",
              "      border-right-color: var(--fill-color);\n",
              "    }\n",
              "    40% {\n",
              "      border-color: transparent;\n",
              "      border-right-color: var(--fill-color);\n",
              "      border-top-color: var(--fill-color);\n",
              "    }\n",
              "    60% {\n",
              "      border-color: transparent;\n",
              "      border-right-color: var(--fill-color);\n",
              "    }\n",
              "    80% {\n",
              "      border-color: transparent;\n",
              "      border-right-color: var(--fill-color);\n",
              "      border-bottom-color: var(--fill-color);\n",
              "    }\n",
              "    90% {\n",
              "      border-color: transparent;\n",
              "      border-bottom-color: var(--fill-color);\n",
              "    }\n",
              "  }\n",
              "</style>\n",
              "\n",
              "  <script>\n",
              "    async function quickchart(key) {\n",
              "      const quickchartButtonEl =\n",
              "        document.querySelector('#' + key + ' button');\n",
              "      quickchartButtonEl.disabled = true;  // To prevent multiple clicks.\n",
              "      quickchartButtonEl.classList.add('colab-df-spinner');\n",
              "      try {\n",
              "        const charts = await google.colab.kernel.invokeFunction(\n",
              "            'suggestCharts', [key], {});\n",
              "      } catch (error) {\n",
              "        console.error('Error during call to suggestCharts:', error);\n",
              "      }\n",
              "      quickchartButtonEl.classList.remove('colab-df-spinner');\n",
              "      quickchartButtonEl.classList.add('colab-df-quickchart-complete');\n",
              "    }\n",
              "    (() => {\n",
              "      let quickchartButtonEl =\n",
              "        document.querySelector('#df-67a34197-5a73-4301-8136-e1c0ceee186f button');\n",
              "      quickchartButtonEl.style.display =\n",
              "        google.colab.kernel.accessAllowed ? 'block' : 'none';\n",
              "    })();\n",
              "  </script>\n",
              "</div>\n",
              "\n",
              "    </div>\n",
              "  </div>\n"
            ],
            "application/vnd.google.colaboratory.intrinsic+json": {
              "type": "dataframe",
              "variable_name": "df",
              "summary": "{\n  \"name\": \"df\",\n  \"rows\": 49582,\n  \"fields\": [\n    {\n      \"column\": \"review\",\n      \"properties\": {\n        \"dtype\": \"string\",\n        \"num_unique_values\": 49582,\n        \"samples\": [\n          \"\\\"Soul Plane\\\" is a horrible attempt at comedy that only should appeal people with thick skulls, bloodshot eyes and furry pawns. <br /><br />The plot is not only incoherent but also non-existent, acting is mostly sub sub-par with a gang of highly moronic and dreadful characters thrown in for bad measure, jokes are often spotted miles ahead and almost never even a bit amusing. This movie lacks any structure and is full of racial stereotypes that must have seemed old even in the fifties, the only thing it really has going for it is some pretty ladies, but really, if you want that you can rent something from the \\\"Adult\\\" section. OK?<br /><br />I can hardly see anything here to recommend since you'll probably have a lot a better and productive time chasing rats with a sledgehammer or inventing waterproof teabags or whatever.<br /><br />2/10\",\n          \"Guest from the Future tells a fascinating story of time travel, friendship, battle of good and evil -- all with a small budget, child actors, and few special effects. Something for Spielberg and Lucas to learn from. ;) A sixth-grader Kolya \\\"Nick\\\" Gerasimov finds a time machine in the basement of a decrepit building and travels 100 years into the future. He discovers a near-perfect, utopian society where robots play guitars and write poetry, everyone is kind to each other and people enjoy everything technology has to offer. Alice is the daughter of a prominent scientist who invented a device called Mielophone that allows to read minds of humans and animals. The device can be put to both good and bad use, depending on whose hands it falls into. When two evil space pirates from Saturn who want to rule the universe attempt to steal Mielophone, it falls into the hands of 20th century school boy Nick. With the pirates hot on his tracks, he travels back to his time, followed by the pirates, and Alice. Chaos, confusion and funny situations follow as the luckless pirates try to blend in with the earthlings. Alice enrolls in the same school Nick goes to and demonstrates superhuman abilities in PE class. The catch is, Alice doesn't know what Nick looks like, while the pirates do. Also, the pirates are able to change their appearance and turn literally into anyone. (Hmm, I wonder if this is where James Cameron got the idea for Terminator...) Who gets to Nick -- and Mielophone -- first? Excellent plot, non-stop adventures, and great soundtrack. I wish Hollywood made kid movies like this one...\",\n          \"\\\"National Treasure\\\" (2004) is a thoroughly misguided hodge-podge of plot entanglements that borrow from nearly every cloak and dagger government conspiracy clich\\u00e9 that has ever been written. The film stars Nicholas Cage as Benjamin Franklin Gates (how precious is that, I ask you?); a seemingly normal fellow who, for no other reason than being of a lineage of like-minded misguided fortune hunters, decides to steal a 'national treasure' that has been hidden by the United States founding fathers. After a bit of subtext and background that plays laughably (unintentionally) like Indiana Jones meets The Patriot, the film degenerates into one misguided whimsy after another \\u0096 attempting to create a 'Stanley Goodspeed' regurgitation of Nicholas Cage and launch the whole convoluted mess forward with a series of high octane, but disconnected misadventures.<br /><br />The relevancy and logic to having George Washington and his motley crew of patriots burying a king's ransom someplace on native soil, and then, going through the meticulous plan of leaving clues scattered throughout U.S. currency art work, is something that director Jon Turteltaub never quite gets around to explaining. Couldn't Washington found better usage for such wealth during the start up of the country? Hence, we are left with a mystery built on top of an enigma that is already on shaky ground by the time Ben appoints himself the new custodian of this untold wealth. Ben's intentions are noble \\u0096 if confusing. He's set on protecting the treasure. For who and when?\\u0085your guess is as good as mine.<br /><br />But there are a few problems with Ben's crusade. First up, his friend, Ian Holmes (Sean Bean) decides that he can't wait for Ben to make up his mind about stealing the Declaration of Independence from the National Archives (oh, yeah \\u0096 brilliant idea!). Presumably, the back of that famous document holds the secret answer to the ultimate fortune. So Ian tries to kill Ben. The assassination attempt is, of course, unsuccessful, if overly melodramatic. It also affords Ben the opportunity to pick up, and pick on, the very sultry curator of the archives, Abigail Chase (Diane Kruger). She thinks Ben is clearly a nut \\u0096 at least at the beginning. But true to action/romance form, Abby's resolve melts quicker than you can say, \\\"is that the Hope Diamond?\\\" The film moves into full X-File-ish mode, as the FBI, mistakenly believing that Ben is behind the theft, retaliate in various benign ways that lead to a multi-layering of action sequences reminiscent of Mission Impossible meets The Fugitive. Honestly, don't those guys ever get 'intelligence' information that is correct? In the final analysis, \\\"National Treasure\\\" isn't great film making, so much as it's a patchwork rehash of tired old bits from other movies, woven together from scraps, the likes of which would make IL' Betsy Ross blush.<br /><br />The Buena Vista DVD delivers a far more generous treatment than this film is deserving of. The anamorphic widescreen picture exhibits a very smooth and finely detailed image with very rich colors, natural flesh tones, solid blacks and clean whites. The stylized image is also free of blemishes and digital enhancements. The audio is 5.1 and delivers a nice sonic boom to your side and rear speakers with intensity and realism. Extras include a host of promotional junket material that is rather deep and over the top in its explanation of how and why this film was made. If only, as an audience, we had had more clarification as to why Ben and co. were chasing after an illusive treasure, this might have been one good flick. Extras conclude with the theatrical trailer, audio commentary and deleted scenes. Not for the faint-hearted \\u0096 just the thick-headed.\"\n        ],\n        \"semantic_type\": \"\",\n        \"description\": \"\"\n      }\n    },\n    {\n      \"column\": \"sentiment\",\n      \"properties\": {\n        \"dtype\": \"category\",\n        \"num_unique_values\": 2,\n        \"samples\": [\n          \"negative\",\n          \"positive\"\n        ],\n        \"semantic_type\": \"\",\n        \"description\": \"\"\n      }\n    }\n  ]\n}"
            }
          },
          "metadata": {},
          "execution_count": 42
        }
      ]
    },
    {
      "cell_type": "code",
      "source": [
        "df['review'][3]"
      ],
      "metadata": {
        "colab": {
          "base_uri": "https://localhost:8080/",
          "height": 87
        },
        "id": "89GcFOMQaeFR",
        "outputId": "aec257ea-c521-4226-b91e-e67eb73a825a"
      },
      "execution_count": null,
      "outputs": [
        {
          "output_type": "execute_result",
          "data": {
            "text/plain": [
              "\"Basically there's a family where a little boy (Jake) thinks there's a zombie in his closet & his parents are fighting all the time.<br /><br />This movie is slower than a soap opera... and suddenly, Jake decides to become Rambo and kill the zombie.<br /><br />OK, first of all when you're going to make a film you must Decide if its a thriller or a drama! As a drama the movie is watchable. Parents are divorcing & arguing like in real life. And then we have Jake with his closet which totally ruins all the film! I expected to see a BOOGEYMAN similar movie, and instead i watched a drama with some meaningless thriller spots.<br /><br />3 out of 10 just for the well playing parents & descent dialogs. As for the shots with Jake: just ignore them.\""
            ],
            "application/vnd.google.colaboratory.intrinsic+json": {
              "type": "string"
            }
          },
          "metadata": {},
          "execution_count": 43
        }
      ]
    },
    {
      "cell_type": "markdown",
      "source": [
        "Note Down the Text issues\n",
        "\n",
        "- Lower text\n",
        "- < > tags remove\n",
        "- spelling mistakes\n",
        "-  old-time-BBC\n",
        "-  \\'dream\\'\n",
        "- \\x97a   \n",
        "- wwwaaaaayyyyy downhillthe\n",
        "- httpwwwinvocusne\n",
        "- wwwanswerscom\n",
        "- showtimeewwwwwww\n",
        "from the manual text analysis we could see above errors in text which we will clean up below"
      ],
      "metadata": {
        "id": "4VtW29vpantZ"
      }
    },
    {
      "cell_type": "markdown",
      "source": [
        "# FIRST WILL CLEAN THE DATA USING REGULAR EXPRESSION"
      ],
      "metadata": {
        "id": "Eh5-tVUrvvPz"
      }
    },
    {
      "cell_type": "markdown",
      "source": [
        "# Lower Text"
      ],
      "metadata": {
        "id": "5FWN7-FUuTIt"
      }
    },
    {
      "cell_type": "code",
      "source": [
        "# make copy of dataset\n",
        "df_backup = df.copy()"
      ],
      "metadata": {
        "id": "vG-4NhwhvciH"
      },
      "execution_count": null,
      "outputs": []
    },
    {
      "cell_type": "markdown",
      "source": [
        "## regx\n",
        "\n",
        "1. Convert text to lowercase:\n",
        "   \n",
        "2. Remove HTML tags:\n",
        "\n",
        "3. Remove website-related patterns:\n",
        "\n",
        "4. Remove punctuation:\n",
        "\n",
        "5. Print success messages:\n",
        "\n",
        "6. Return the cleaned DataFrame:\n"
      ],
      "metadata": {
        "id": "R3DQ-tcC8ZNE"
      }
    },
    {
      "cell_type": "code",
      "source": [
        "import re\n",
        "import string\n",
        "\n",
        "def regx(df):\n",
        "  try:\n",
        "    df['review']= df['review'].str.lower()\n",
        "    print(\"Corpus Lower case successfull\")\n",
        "    # Remove HTML tags from the text in the 'review' column\n",
        "    df['review'] = df['review'].apply(lambda x: re.sub(r'<[^>]*>', '', x))\n",
        "    print(\"Corpus html tags removed successfull\")\n",
        "    # remove http, www log words with sigle char wwwaaaaayyyyy downhillthe etc\n",
        "    df['review'] = df['review'].apply(lambda x: re.sub(r'(www\\w*|http\\w*|\\\\|\\b\\w*(\\w)\\2{5,}\\w*\\b)' , '', x))\n",
        "    print(\"Corpus website tags removed successfull\")\n",
        "    # Punctuation removal\n",
        "    df['review'] = df['review'].apply(lambda x: \"\".join(char for char in x if char not in string.punctuation))\n",
        "    print(\"Corpus punctuation removed successfull\")\n",
        "    print(\"Data Cleaning is completed Successfully\")\n",
        "    return df\n",
        "  except Exception as e:\n",
        "    raise e\n",
        "\n",
        "\n"
      ],
      "metadata": {
        "id": "ETNOTv_9v4yH"
      },
      "execution_count": null,
      "outputs": []
    },
    {
      "cell_type": "code",
      "source": [
        "df_cleaned = regx(df)"
      ],
      "metadata": {
        "colab": {
          "base_uri": "https://localhost:8080/"
        },
        "id": "J0i3kmZhwq0A",
        "outputId": "a6ae8cce-1e5e-488c-9a56-7232e459cebb"
      },
      "execution_count": null,
      "outputs": [
        {
          "output_type": "stream",
          "name": "stdout",
          "text": [
            "Corpus Lower case successfull\n",
            "Corpus html tags removed successfull\n",
            "Corpus website tags removed successfull\n",
            "Corpus punctuation removed successfull\n",
            "Data Cleaning is completed Successfully\n"
          ]
        }
      ]
    },
    {
      "cell_type": "markdown",
      "source": [
        "## text_analyzer\n",
        "\n",
        "- This function will search if any error of any miss typed data is present in the corpus like html , http, www or any symbols if its present it will show the row details"
      ],
      "metadata": {
        "id": "OQM7Zwc07jZf"
      }
    },
    {
      "cell_type": "code",
      "source": [
        "# This function will search if any error of any miss typed data is present in the corpus like html ,\n",
        "# http, www or any symbols if its present it will show the row details\n",
        "\n",
        "def text_analyzer(df):\n",
        "  print(\"wwwaaaaayyyyy downhillthe httpwwwinvocusne wwwanswerscom showtimeewwwwwww\")\n",
        "  #str1 = input('Enter String to Search in Corpus')\n",
        "\n",
        "  filtered_df = df[df['review'].str.contains('str1')]\n",
        "\n",
        "  if filtered_df.empty:\n",
        "    print('No MATCH FOUND')\n",
        "  else:\n",
        "   print(\"Below Rows found with search Data \",filtered_df)"
      ],
      "metadata": {
        "id": "ljQnjbRo5HYo"
      },
      "execution_count": null,
      "outputs": []
    },
    {
      "cell_type": "code",
      "source": [
        "text_analyzer(df_cleaned)"
      ],
      "metadata": {
        "colab": {
          "base_uri": "https://localhost:8080/"
        },
        "id": "MYBlHC1mzigi",
        "outputId": "8d8d9e6f-5c5d-4f80-8632-a70abc6a9494"
      },
      "execution_count": null,
      "outputs": [
        {
          "output_type": "stream",
          "name": "stdout",
          "text": [
            "wwwaaaaayyyyy downhillthe httpwwwinvocusne wwwanswerscom showtimeewwwwwww\n",
            "No MATCH FOUND\n"
          ]
        }
      ]
    },
    {
      "cell_type": "markdown",
      "source": [
        "# NO EMOJI TEXT FOUND"
      ],
      "metadata": {
        "id": "-7YKk7G49TTV"
      }
    },
    {
      "cell_type": "markdown",
      "source": [
        "## SPELLING CORRECTION"
      ],
      "metadata": {
        "id": "Ac8uF11u9Z0r"
      }
    },
    {
      "cell_type": "markdown",
      "source": [
        "\n",
        "- pySpellchecker\n",
        "\n",
        "- TextBlob\n",
        "\n",
        "There are two ways to do spelling correction"
      ],
      "metadata": {
        "id": "bzxrPighXWLz"
      }
    },
    {
      "cell_type": "markdown",
      "source": [
        "## pySpellchecker"
      ],
      "metadata": {
        "id": "0F8xZzzJqALO"
      }
    },
    {
      "cell_type": "code",
      "source": [
        "!pip install pyspellchecker==0.5.6 -q"
      ],
      "metadata": {
        "id": "DqLgb1Gd0gH0"
      },
      "execution_count": null,
      "outputs": []
    },
    {
      "cell_type": "code",
      "source": [
        "# THis was taking too much time for all the words so i have applied for 1 review\n",
        "from spellchecker import SpellChecker\n",
        "from nltk import sent_tokenize , word_tokenize\n",
        "# Assuming df['review'] contains the reviews\n",
        "reviews = df_cleaned['review'][0].split()\n",
        "\n",
        "spell = SpellChecker()\n",
        "correct_words = []\n",
        "\n",
        "for review in reviews:\n",
        "    words = word_tokenize(review)  # Tokenize the review into words\n",
        "    corrected_words = [spell.correction(word) for word in words]\n",
        "    correct_words.append(corrected_words)"
      ],
      "metadata": {
        "id": "DdOjhcWaXzqw"
      },
      "execution_count": null,
      "outputs": []
    },
    {
      "cell_type": "code",
      "source": [
        "# Initialize counter for the loop\n",
        "\n",
        "def spell_verify(reviews, correct_words):\n",
        "  counter = 0\n",
        "\n",
        "  while counter < 5:\n",
        "      for review, corrected_words in zip(reviews, correct_words):\n",
        "          corrected_review = ''.join(corrected_words)  # Join corrected words back into a sentence\n",
        "          if review != corrected_review:\n",
        "              print(f\"Original: {review}\\t Corrected: {corrected_review}\")\n",
        "      counter += 1"
      ],
      "metadata": {
        "id": "ENfUVbzeX3sP"
      },
      "execution_count": null,
      "outputs": []
    },
    {
      "cell_type": "code",
      "source": [
        "spell_verify(reviews, correct_words)"
      ],
      "metadata": {
        "colab": {
          "base_uri": "https://localhost:8080/"
        },
        "id": "DITZDOQ8tdIi",
        "outputId": "38b44766-dad6-4177-edc3-8e425e409c62"
      },
      "execution_count": null,
      "outputs": [
        {
          "output_type": "stream",
          "name": "stdout",
          "text": [
            "Original: wordit\t Corrected: word\n",
            "Original: penitentary\t Corrected: penitentiary\n",
            "Original: awayi\t Corrected: away\n",
            "Original: romanceoz\t Corrected: romance\n",
            "Original: wholl\t Corrected: whole\n",
            "Original: wholl\t Corrected: whole\n",
            "Original: wordit\t Corrected: word\n",
            "Original: penitentary\t Corrected: penitentiary\n",
            "Original: awayi\t Corrected: away\n",
            "Original: romanceoz\t Corrected: romance\n",
            "Original: wholl\t Corrected: whole\n",
            "Original: wholl\t Corrected: whole\n",
            "Original: wordit\t Corrected: word\n",
            "Original: penitentary\t Corrected: penitentiary\n",
            "Original: awayi\t Corrected: away\n",
            "Original: romanceoz\t Corrected: romance\n",
            "Original: wholl\t Corrected: whole\n",
            "Original: wholl\t Corrected: whole\n",
            "Original: wordit\t Corrected: word\n",
            "Original: penitentary\t Corrected: penitentiary\n",
            "Original: awayi\t Corrected: away\n",
            "Original: romanceoz\t Corrected: romance\n",
            "Original: wholl\t Corrected: whole\n",
            "Original: wholl\t Corrected: whole\n",
            "Original: wordit\t Corrected: word\n",
            "Original: penitentary\t Corrected: penitentiary\n",
            "Original: awayi\t Corrected: away\n",
            "Original: romanceoz\t Corrected: romance\n",
            "Original: wholl\t Corrected: whole\n",
            "Original: wholl\t Corrected: whole\n"
          ]
        }
      ]
    },
    {
      "cell_type": "markdown",
      "source": [
        "## TextBlob"
      ],
      "metadata": {
        "id": "OwbrCEk4qFSB"
      }
    },
    {
      "cell_type": "code",
      "source": [
        "from textblob import TextBlob\n",
        "from nltk.tokenize import sent_tokenize , word_tokenize# import sent tokenizer\n",
        "correct_blob=[]\n",
        "reviews = df_cleaned['review'][5].split()\n",
        "for word in reviews:\n",
        "  txt = TextBlob(word).correct()\n",
        "  correct_blob.append(str(txt))"
      ],
      "metadata": {
        "id": "cLqDr958nyTi"
      },
      "execution_count": null,
      "outputs": []
    },
    {
      "cell_type": "code",
      "source": [
        "spell_verify(reviews, correct_blob)"
      ],
      "metadata": {
        "colab": {
          "base_uri": "https://localhost:8080/"
        },
        "id": "kdu5eJA5qj6O",
        "outputId": "02e177df-b2eb-4dea-fbcb-47d0b43a9068"
      },
      "execution_count": null,
      "outputs": [
        {
          "output_type": "stream",
          "name": "stdout",
          "text": [
            "Original: alltime\t Corrected: alliee\n",
            "Original: selflessness\t Corrected: helplessness\n",
            "Original: dedication\t Corrected: education\n",
            "Original: preachy\t Corrected: preach\n",
            "Original: lukas\t Corrected: lupus\n",
            "Original: bette\t Corrected: better\n",
            "Original: kids\t Corrected: kiss\n",
            "Original: grandma\t Corrected: grand\n",
            "Original: dressedup\t Corrected: dressed\n",
            "Original: midgets\t Corrected: midges\n",
            "Original: whats\t Corrected: what\n",
            "Original: theyd\t Corrected: they\n",
            "Original: alltime\t Corrected: alliee\n",
            "Original: selflessness\t Corrected: helplessness\n",
            "Original: dedication\t Corrected: education\n",
            "Original: preachy\t Corrected: preach\n",
            "Original: lukas\t Corrected: lupus\n",
            "Original: bette\t Corrected: better\n",
            "Original: kids\t Corrected: kiss\n",
            "Original: grandma\t Corrected: grand\n",
            "Original: dressedup\t Corrected: dressed\n",
            "Original: midgets\t Corrected: midges\n",
            "Original: whats\t Corrected: what\n",
            "Original: theyd\t Corrected: they\n",
            "Original: alltime\t Corrected: alliee\n",
            "Original: selflessness\t Corrected: helplessness\n",
            "Original: dedication\t Corrected: education\n",
            "Original: preachy\t Corrected: preach\n",
            "Original: lukas\t Corrected: lupus\n",
            "Original: bette\t Corrected: better\n",
            "Original: kids\t Corrected: kiss\n",
            "Original: grandma\t Corrected: grand\n",
            "Original: dressedup\t Corrected: dressed\n",
            "Original: midgets\t Corrected: midges\n",
            "Original: whats\t Corrected: what\n",
            "Original: theyd\t Corrected: they\n",
            "Original: alltime\t Corrected: alliee\n",
            "Original: selflessness\t Corrected: helplessness\n",
            "Original: dedication\t Corrected: education\n",
            "Original: preachy\t Corrected: preach\n",
            "Original: lukas\t Corrected: lupus\n",
            "Original: bette\t Corrected: better\n",
            "Original: kids\t Corrected: kiss\n",
            "Original: grandma\t Corrected: grand\n",
            "Original: dressedup\t Corrected: dressed\n",
            "Original: midgets\t Corrected: midges\n",
            "Original: whats\t Corrected: what\n",
            "Original: theyd\t Corrected: they\n",
            "Original: alltime\t Corrected: alliee\n",
            "Original: selflessness\t Corrected: helplessness\n",
            "Original: dedication\t Corrected: education\n",
            "Original: preachy\t Corrected: preach\n",
            "Original: lukas\t Corrected: lupus\n",
            "Original: bette\t Corrected: better\n",
            "Original: kids\t Corrected: kiss\n",
            "Original: grandma\t Corrected: grand\n",
            "Original: dressedup\t Corrected: dressed\n",
            "Original: midgets\t Corrected: midges\n",
            "Original: whats\t Corrected: what\n",
            "Original: theyd\t Corrected: they\n"
          ]
        }
      ]
    },
    {
      "cell_type": "markdown",
      "source": [
        "## Difference between PySpellChecker and TextBlob\n",
        "\n",
        "### PySpellChecker\n",
        "- PySpellChecker is a Python library specifically designed for spell checking.\n",
        "- It provides functionalities to correct misspelled words in text.\n",
        "- It uses pre-built language models and dictionaries to identify and correct misspelled words.\n",
        "- PySpellChecker focuses solely on spell checking and does not offer other natural language processing (NLP) functionalities.\n",
        "\n",
        "### TextBlob\n",
        "- TextBlob is a powerful Python library for processing textual data.\n",
        "- It offers a wide range of NLP functionalities, including part-of-speech tagging, noun phrase extraction, sentiment analysis, translation, and spell checking.\n",
        "- TextBlob wraps around NLTK and pattern libraries to provide an intuitive interface for performing various NLP tasks.\n",
        "- In addition to spell checking, TextBlob can handle many other text processing tasks, making it suitable for comprehensive text analysis and manipulation.\n",
        "\n",
        "### Key Differences\n",
        "- PySpellChecker is specialized for spell checking only, while TextBlob offers a broader range of NLP functionalities.\n",
        "- TextBlob provides an easy-to-use interface for spell checking along with other text processing tasks, making it convenient for users who require multiple NLP functionalities in their projects.\n",
        "- PySpellChecker may offer faster spell checking performance for large volumes of text due to its focused scope and efficient algorithms.\n",
        "- TextBlob's spell checking functionality is part of its larger suite of NLP tools, making it suitable for projects requiring comprehensive text analysis and processing.\n"
      ],
      "metadata": {
        "id": "fTYf2zlLx4hP"
      }
    },
    {
      "cell_type": "markdown",
      "source": [
        "\n",
        "4. [Advance Preprocessing](#advance-preprocessing)\n",
        "   - [Stopwords Removal](#stopwords-removal)\n",
        "   - [Stemming](#stemming)\n",
        "   - [Remove Digits and Punctuation](#remove-digits-and-punctuation)\n",
        "   - [Lowercasing](#lowercasing)\n",
        "   - [Language Detection](#language-detection)\n"
      ],
      "metadata": {
        "id": "QIncxr5ZyD2Y"
      }
    },
    {
      "cell_type": "markdown",
      "source": [
        "# Advance PreProcessing"
      ],
      "metadata": {
        "id": "WLBoRSBRySRw"
      }
    },
    {
      "cell_type": "markdown",
      "source": [
        "## STOPWORDS REMOVAL"
      ],
      "metadata": {
        "id": "6SeqFW9HyVMH"
      }
    },
    {
      "cell_type": "code",
      "source": [
        "def count(text):\n",
        "  from sklearn.feature_extraction.text import CountVectorizer\n",
        "  cv= CountVectorizer()\n",
        "  bow=cv.fit_transform(text)\n",
        "  print(f\"Total Unique Words in Movie Review Dataset : {len(cv.vocabulary_)}\")\n",
        "  # we can see the total word count before applying Stopwords\n",
        "  total_word_count = text.str.split().apply(len).sum()\n",
        "  print(f\"total words in Corpus is : {total_word_count}\")"
      ],
      "metadata": {
        "id": "AmoZReDcqk3L"
      },
      "execution_count": null,
      "outputs": []
    },
    {
      "cell_type": "code",
      "source": [
        "count(df['review'])"
      ],
      "metadata": {
        "id": "QaiRDU2VyfQv",
        "colab": {
          "base_uri": "https://localhost:8080/"
        },
        "outputId": "c17a161a-615a-4952-dcc7-9352bec9d40b"
      },
      "execution_count": null,
      "outputs": [
        {
          "output_type": "stream",
          "name": "stdout",
          "text": [
            "Total Unique Words in Movie Review Dataset : 221180\n",
            "total words in Corpus is : 11227623\n"
          ]
        }
      ]
    },
    {
      "cell_type": "code",
      "source": [
        "count(df_cleaned['review'])"
      ],
      "metadata": {
        "colab": {
          "base_uri": "https://localhost:8080/"
        },
        "id": "yMoz7xavlaxS",
        "outputId": "211a7e31-db09-4178-876e-a275d44f065e"
      },
      "execution_count": null,
      "outputs": [
        {
          "output_type": "stream",
          "name": "stdout",
          "text": [
            "Total Unique Words in Movie Review Dataset : 221180\n",
            "total words in Corpus is : 11227623\n"
          ]
        }
      ]
    },
    {
      "cell_type": "code",
      "source": [
        "df_backup_02 = df_cleaned.copy()"
      ],
      "metadata": {
        "id": "9Vj5T6JVjnYk"
      },
      "execution_count": null,
      "outputs": []
    },
    {
      "cell_type": "code",
      "source": [
        "df_cleaned_copy = df_backup_02.copy()"
      ],
      "metadata": {
        "id": "5XX2poUoppfZ"
      },
      "execution_count": null,
      "outputs": []
    },
    {
      "cell_type": "code",
      "source": [
        "import nltk\n",
        "from nltk.corpus import stopwords\n",
        "\n",
        "# Download NLTK stopwords data if not already present\n",
        "nltk.download('stopwords')\n",
        "\n",
        "# Get the list of English stopwords\n",
        "stop_words = set(stopwords.words('english'))\n",
        "\n",
        "# Function to remove stopwords from text\n",
        "def remove_stopwords(text):\n",
        "    if isinstance(text, str):  # Check if text is a string\n",
        "        tokens = nltk.word_tokenize(text)\n",
        "        filtered_tokens = [word for word in tokens if word.lower() not in stop_words]\n",
        "        return ' '.join(filtered_tokens)\n",
        "    else:\n",
        "        return text\n",
        "\n",
        "\n"
      ],
      "metadata": {
        "colab": {
          "base_uri": "https://localhost:8080/"
        },
        "id": "uAUSEMbbdy6c",
        "outputId": "36787a1d-6070-40db-a1ca-f9c3c72bd680"
      },
      "execution_count": null,
      "outputs": [
        {
          "output_type": "stream",
          "name": "stderr",
          "text": [
            "[nltk_data] Downloading package stopwords to /root/nltk_data...\n",
            "[nltk_data]   Package stopwords is already up-to-date!\n"
          ]
        }
      ]
    },
    {
      "cell_type": "code",
      "source": [
        "# Apply remove_stopwords function to the 'review' column\n",
        "df_cleaned_copy['review'] = df_cleaned_copy['review'].apply(remove_stopwords)"
      ],
      "metadata": {
        "id": "IVn7kX4li2i8"
      },
      "execution_count": null,
      "outputs": []
    },
    {
      "cell_type": "code",
      "source": [
        "df_cleaned_copy['review']"
      ],
      "metadata": {
        "colab": {
          "base_uri": "https://localhost:8080/"
        },
        "id": "OotqaiyPrE55",
        "outputId": "e4c8ac4d-61a1-4387-e37a-5a9d998236c2"
      },
      "execution_count": null,
      "outputs": [
        {
          "output_type": "execute_result",
          "data": {
            "text/plain": [
              "0        one reviewers mentioned watching 1 oz episode ...\n",
              "1        wonderful little production filming technique ...\n",
              "2        thought wonderful way spend time hot summer we...\n",
              "3        basically theres family little boy jake thinks...\n",
              "4        petter matteis love time money visually stunni...\n",
              "                               ...                        \n",
              "49995    thought movie right good job wasnt creative or...\n",
              "49996    bad plot bad dialogue bad acting idiotic direc...\n",
              "49997    catholic taught parochial elementary schools n...\n",
              "49998    im going disagree previous comment side maltin...\n",
              "49999    one expects star trek movies high art fans exp...\n",
              "Name: review, Length: 49582, dtype: object"
            ]
          },
          "metadata": {},
          "execution_count": 62
        }
      ]
    },
    {
      "cell_type": "code",
      "source": [
        "count(df_cleaned_copy['review'])"
      ],
      "metadata": {
        "colab": {
          "base_uri": "https://localhost:8080/"
        },
        "id": "113pULejmVyY",
        "outputId": "444f71a3-3bf2-4cca-eae1-c4c2a2c2b327"
      },
      "execution_count": null,
      "outputs": [
        {
          "output_type": "stream",
          "name": "stdout",
          "text": [
            "Total Unique Words in Movie Review Dataset : 221134\n",
            "total words in Corpus is : 5946656\n"
          ]
        }
      ]
    },
    {
      "cell_type": "markdown",
      "source": [
        "# Stemming Vs Lemmatization"
      ],
      "metadata": {
        "id": "bF9-ck3zmu7_"
      }
    },
    {
      "cell_type": "markdown",
      "source": [
        "- in  stemming we have Porter Stemming and SnowBall Stemming\n",
        "- But both will remove the suffixes or prefixes from the word and cut the words which may or may not be the actual words after stemming\n",
        "- its a heuristic approch to deal with words\n",
        "\n",
        "\n",
        "### Lemmatization\n",
        "\n",
        "- is the process of reducing words to their base or dictonary form  which is called lemma\n",
        "it uses lexical knowledge and context to accuratly reduce words"
      ],
      "metadata": {
        "id": "bTq-IAJkm7cj"
      }
    },
    {
      "cell_type": "markdown",
      "source": [
        "## Lemmatization\n"
      ],
      "metadata": {
        "id": "PSUT-Dotn26h"
      }
    },
    {
      "cell_type": "code",
      "source": [
        "import nltk\n",
        "from nltk.stem import WordNetLemmatizer\n",
        "from nltk.tokenize import word_tokenize\n",
        "\n",
        "nltk.download('punkt')\n",
        "nltk.download('wordnet')\n",
        "\n",
        "def lemmatize(text):\n",
        "    lemmatizer = WordNetLemmatizer()\n",
        "    lemma_words = []\n",
        "\n",
        "    tokens = word_tokenize(text)\n",
        "\n",
        "    for word in tokens:\n",
        "        lemma = lemmatizer.lemmatize(word, pos='v')  # Lemmatize the word as a verb\n",
        "        lemma_words.append(lemma)\n",
        "\n",
        "    return ' '.join(lemma_words)\n",
        "\n"
      ],
      "metadata": {
        "colab": {
          "base_uri": "https://localhost:8080/"
        },
        "id": "0emhc-YOmv6m",
        "outputId": "a7229b18-2908-4d84-809d-8cfc31602791"
      },
      "execution_count": null,
      "outputs": [
        {
          "output_type": "stream",
          "name": "stderr",
          "text": [
            "[nltk_data] Downloading package punkt to /root/nltk_data...\n",
            "[nltk_data]   Package punkt is already up-to-date!\n",
            "[nltk_data] Downloading package wordnet to /root/nltk_data...\n",
            "[nltk_data]   Package wordnet is already up-to-date!\n"
          ]
        }
      ]
    },
    {
      "cell_type": "code",
      "source": [
        "df_cleaned_copy['review'] = df_cleaned_copy['review'].apply(lemmatize)"
      ],
      "metadata": {
        "id": "rq_xytraoo8Z"
      },
      "execution_count": null,
      "outputs": []
    },
    {
      "cell_type": "code",
      "source": [
        "df_cleaned_copy['review']"
      ],
      "metadata": {
        "colab": {
          "base_uri": "https://localhost:8080/"
        },
        "id": "RhYcuuXHowOp",
        "outputId": "4793f14d-555f-4bc4-93b3-257c945bd579"
      },
      "execution_count": null,
      "outputs": [
        {
          "output_type": "execute_result",
          "data": {
            "text/plain": [
              "0        one reviewers mention watch 1 oz episode youll...\n",
              "1        wonderful little production film technique una...\n",
              "2        think wonderful way spend time hot summer week...\n",
              "3        basically theres family little boy jake think ...\n",
              "4        petter matteis love time money visually stun f...\n",
              "                               ...                        \n",
              "49995    think movie right good job wasnt creative orig...\n",
              "49996    bad plot bad dialogue bad act idiotic direct a...\n",
              "49997    catholic teach parochial elementary school nun...\n",
              "49998    im go disagree previous comment side maltin on...\n",
              "49999    one expect star trek movies high art fan expec...\n",
              "Name: review, Length: 49582, dtype: object"
            ]
          },
          "metadata": {},
          "execution_count": 66
        }
      ]
    },
    {
      "cell_type": "code",
      "source": [
        "count(df_cleaned_copy['review'])"
      ],
      "metadata": {
        "colab": {
          "base_uri": "https://localhost:8080/"
        },
        "id": "Wm35ha8Go7B-",
        "outputId": "231c3fb9-0374-4d18-aeb0-4deeab2263fc"
      },
      "execution_count": null,
      "outputs": [
        {
          "output_type": "stream",
          "name": "stdout",
          "text": [
            "Total Unique Words in Movie Review Dataset : 208007\n",
            "total words in Corpus is : 5946656\n"
          ]
        }
      ]
    },
    {
      "cell_type": "code",
      "source": [
        "df_backup_03 = df_cleaned_copy.copy()"
      ],
      "metadata": {
        "id": "dcPUf_Qesv0Y"
      },
      "execution_count": null,
      "outputs": []
    },
    {
      "cell_type": "markdown",
      "source": [
        "# Frequency Distribution"
      ],
      "metadata": {
        "id": "rnoLN5mqtvjq"
      }
    },
    {
      "cell_type": "code",
      "source": [
        "import nltk\n",
        "from nltk.probability import FreqDist\n",
        "from nltk.tokenize import word_tokenize\n",
        "\n",
        "def freq_dist(text):\n",
        "    tokens = word_tokenize(text)\n",
        "    fd = FreqDist(tokens)\n",
        "    print('Most Common Words:', fd.most_common(10))\n",
        "    print(fd)\n",
        "    fd.plot(20)\n",
        "\n"
      ],
      "metadata": {
        "id": "F9KLYWzgtcHB"
      },
      "execution_count": null,
      "outputs": []
    },
    {
      "cell_type": "code",
      "source": [
        "\n",
        "freq_dist(df_cleaned_copy['review'].str.cat(sep=' '))"
      ],
      "metadata": {
        "colab": {
          "base_uri": "https://localhost:8080/",
          "height": 537
        },
        "id": "a1SQZUpDu3lt",
        "outputId": "113e9670-2524-4be3-9433-90ce4af6bec8"
      },
      "execution_count": null,
      "outputs": [
        {
          "output_type": "stream",
          "name": "stdout",
          "text": [
            "Most Common Words: [('film', 91432), ('movie', 82847), ('one', 49988), ('make', 43644), ('like', 42570), ('see', 40285), ('get', 35154), ('time', 29505), ('good', 28283), ('character', 27339)]\n",
            "<FreqDist with 208850 samples and 5946656 outcomes>\n"
          ]
        },
        {
          "output_type": "display_data",
          "data": {
            "text/plain": [
              "<Figure size 640x480 with 1 Axes>"
            ],
            "image/png": "[encoded data removed]"
          },
          "metadata": {}
        }
      ]
    },
    {
      "cell_type": "markdown",
      "source": [
        "# Language Detection"
      ],
      "metadata": {
        "id": "Yqhrf5FTwXqK"
      }
    },
    {
      "cell_type": "code",
      "source": [
        "!pip install langdetect -q\n"
      ],
      "metadata": {
        "id": "Juv4AJFzwl0p"
      },
      "execution_count": null,
      "outputs": []
    },
    {
      "cell_type": "code",
      "source": [
        "from langdetect import detect\n",
        "\n",
        "# Function to detect language for a given text\n",
        "def detect_language(text):\n",
        "    try:\n",
        "        return detect(text)\n",
        "    except:\n",
        "        return None  # Return None if language detection fails\n",
        "\n"
      ],
      "metadata": {
        "id": "iwboEnaIvI0D"
      },
      "execution_count": null,
      "outputs": []
    },
    {
      "cell_type": "code",
      "source": [
        "\n",
        "review_lang = detect_language(df_cleaned_copy['review'][45])\n",
        "review_lang"
      ],
      "metadata": {
        "colab": {
          "base_uri": "https://localhost:8080/",
          "height": 35
        },
        "id": "KxkcvoQXwsdl",
        "outputId": "2c296f38-a54d-498b-9dd1-8620e50f6a15"
      },
      "execution_count": null,
      "outputs": [
        {
          "output_type": "execute_result",
          "data": {
            "text/plain": [
              "'en'"
            ],
            "application/vnd.google.colaboratory.intrinsic+json": {
              "type": "string"
            }
          },
          "metadata": {},
          "execution_count": 73
        }
      ]
    },
    {
      "cell_type": "markdown",
      "source": [
        "3. **Feature Engineering**\n",
        "    - Bag of Words\n",
        "    - TF-IDF (Term Frequency-Inverse Document Frequency)\n",
        "    - Word embeddings (Word2Vec, GloVe, etc.)\n",
        "    - n-grams\n",
        "    - Topic modeling (LDA, LSA, etc.)\n",
        "    - Feature selection\n"
      ],
      "metadata": {
        "id": "r42FZeVLUZ5q"
      }
    },
    {
      "cell_type": "markdown",
      "source": [
        "# Train Test Split The data"
      ],
      "metadata": {
        "id": "kUcK-gXuhUbk"
      }
    },
    {
      "cell_type": "code",
      "source": [
        "X = df_cleaned_copy['review']\n",
        "X"
      ],
      "metadata": {
        "colab": {
          "base_uri": "https://localhost:8080/"
        },
        "id": "8VnotbZGhXnd",
        "outputId": "a9446319-e842-46e7-df3e-8ac768728f09"
      },
      "execution_count": null,
      "outputs": [
        {
          "output_type": "execute_result",
          "data": {
            "text/plain": [
              "0        one reviewers mention watch 1 oz episode youll...\n",
              "1        wonderful little production film technique una...\n",
              "2        think wonderful way spend time hot summer week...\n",
              "3        basically theres family little boy jake think ...\n",
              "4        petter matteis love time money visually stun f...\n",
              "                               ...                        \n",
              "49995    think movie right good job wasnt creative orig...\n",
              "49996    bad plot bad dialogue bad act idiotic direct a...\n",
              "49997    catholic teach parochial elementary school nun...\n",
              "49998    im go disagree previous comment side maltin on...\n",
              "49999    one expect star trek movies high art fan expec...\n",
              "Name: review, Length: 49582, dtype: object"
            ]
          },
          "metadata": {},
          "execution_count": 74
        }
      ]
    },
    {
      "cell_type": "markdown",
      "source": [
        "## LEBAL ENCODING FOR TARGET (y)"
      ],
      "metadata": {
        "id": "xw4z6BcShfmR"
      }
    },
    {
      "cell_type": "code",
      "source": [
        "df_cleaned_copy.head()"
      ],
      "metadata": {
        "colab": {
          "base_uri": "https://localhost:8080/",
          "height": 206
        },
        "id": "bqmPFeSPc9Ow",
        "outputId": "75662dd4-879f-4375-e840-ff6a8b937440"
      },
      "execution_count": null,
      "outputs": [
        {
          "output_type": "execute_result",
          "data": {
            "text/plain": [
              "                                              review sentiment\n",
              "0  one reviewers mention watch 1 oz episode youll...  positive\n",
              "1  wonderful little production film technique una...  positive\n",
              "2  think wonderful way spend time hot summer week...  positive\n",
              "3  basically theres family little boy jake think ...  negative\n",
              "4  petter matteis love time money visually stun f...  positive"
            ],
            "text/html": [
              "\n",
              "  <div id=\"df-08e65d80-0561-404d-959c-92edcfcf21b5\" class=\"colab-df-container\">\n",
              "    <div>\n",
              "<style scoped>\n",
              "    .dataframe tbody tr th:only-of-type {\n",
              "        vertical-align: middle;\n",
              "    }\n",
              "\n",
              "    .dataframe tbody tr th {\n",
              "        vertical-align: top;\n",
              "    }\n",
              "\n",
              "    .dataframe thead th {\n",
              "        text-align: right;\n",
              "    }\n",
              "</style>\n",
              "<table border=\"1\" class=\"dataframe\">\n",
              "  <thead>\n",
              "    <tr style=\"text-align: right;\">\n",
              "      <th></th>\n",
              "      <th>review</th>\n",
              "      <th>sentiment</th>\n",
              "    </tr>\n",
              "  </thead>\n",
              "  <tbody>\n",
              "    <tr>\n",
              "      <th>0</th>\n",
              "      <td>one reviewers mention watch 1 oz episode youll...</td>\n",
              "      <td>positive</td>\n",
              "    </tr>\n",
              "    <tr>\n",
              "      <th>1</th>\n",
              "      <td>wonderful little production film technique una...</td>\n",
              "      <td>positive</td>\n",
              "    </tr>\n",
              "    <tr>\n",
              "      <th>2</th>\n",
              "      <td>think wonderful way spend time hot summer week...</td>\n",
              "      <td>positive</td>\n",
              "    </tr>\n",
              "    <tr>\n",
              "      <th>3</th>\n",
              "      <td>basically theres family little boy jake think ...</td>\n",
              "      <td>negative</td>\n",
              "    </tr>\n",
              "    <tr>\n",
              "      <th>4</th>\n",
              "      <td>petter matteis love time money visually stun f...</td>\n",
              "      <td>positive</td>\n",
              "    </tr>\n",
              "  </tbody>\n",
              "</table>\n",
              "</div>\n",
              "    <div class=\"colab-df-buttons\">\n",
              "\n",
              "  <div class=\"colab-df-container\">\n",
              "    <button class=\"colab-df-convert\" onclick=\"convertToInteractive('df-08e65d80-0561-404d-959c-92edcfcf21b5')\"\n",
              "            title=\"Convert this dataframe to an interactive table.\"\n",
              "            style=\"display:none;\">\n",
              "\n",
              "  <svg xmlns=\"http://www.w3.org/2000/svg\" height=\"24px\" viewBox=\"0 -960 960 960\">\n",
              "    <path d=\"M120-120v-720h720v720H120Zm60-500h600v-160H180v160Zm220 220h160v-160H400v160Zm0 220h160v-160H400v160ZM180-400h160v-160H180v160Zm440 0h160v-160H620v160ZM180-180h160v-160H180v160Zm440 0h160v-160H620v160Z\"/>\n",
              "  </svg>\n",
              "    </button>\n",
              "\n",
              "  <style>\n",
              "    .colab-df-container {\n",
              "      display:flex;\n",
              "      gap: 12px;\n",
              "    }\n",
              "\n",
              "    .colab-df-convert {\n",
              "      background-color: #E8F0FE;\n",
              "      border: none;\n",
              "      border-radius: 50%;\n",
              "      cursor: pointer;\n",
              "      display: none;\n",
              "      fill: #1967D2;\n",
              "      height: 32px;\n",
              "      padding: 0 0 0 0;\n",
              "      width: 32px;\n",
              "    }\n",
              "\n",
              "    .colab-df-convert:hover {\n",
              "      background-color: #E2EBFA;\n",
              "      box-shadow: 0px 1px 2px rgba(60, 64, 67, 0.3), 0px 1px 3px 1px rgba(60, 64, 67, 0.15);\n",
              "      fill: #174EA6;\n",
              "    }\n",
              "\n",
              "    .colab-df-buttons div {\n",
              "      margin-bottom: 4px;\n",
              "    }\n",
              "\n",
              "    [theme=dark] .colab-df-convert {\n",
              "      background-color: #3B4455;\n",
              "      fill: #D2E3FC;\n",
              "    }\n",
              "\n",
              "    [theme=dark] .colab-df-convert:hover {\n",
              "      background-color: #434B5C;\n",
              "      box-shadow: 0px 1px 3px 1px rgba(0, 0, 0, 0.15);\n",
              "      filter: drop-shadow(0px 1px 2px rgba(0, 0, 0, 0.3));\n",
              "      fill: #FFFFFF;\n",
              "    }\n",
              "  </style>\n",
              "\n",
              "    <script>\n",
              "      const buttonEl =\n",
              "        document.querySelector('#df-08e65d80-0561-404d-959c-92edcfcf21b5 button.colab-df-convert');\n",
              "      buttonEl.style.display =\n",
              "        google.colab.kernel.accessAllowed ? 'block' : 'none';\n",
              "\n",
              "      async function convertToInteractive(key) {\n",
              "        const element = document.querySelector('#df-08e65d80-0561-404d-959c-92edcfcf21b5');\n",
              "        const dataTable =\n",
              "          await google.colab.kernel.invokeFunction('convertToInteractive',\n",
              "                                                    [key], {});\n",
              "        if (!dataTable) return;\n",
              "\n",
              "        const docLinkHtml = 'Like what you see? Visit the ' +\n",
              "          '<a target=\"_blank\" href=https://colab.research.google.com/notebooks/data_table.ipynb>data table notebook</a>'\n",
              "          + ' to learn more about interactive tables.';\n",
              "        element.innerHTML = '';\n",
              "        dataTable['output_type'] = 'display_data';\n",
              "        await google.colab.output.renderOutput(dataTable, element);\n",
              "        const docLink = document.createElement('div');\n",
              "        docLink.innerHTML = docLinkHtml;\n",
              "        element.appendChild(docLink);\n",
              "      }\n",
              "    </script>\n",
              "  </div>\n",
              "\n",
              "\n",
              "<div id=\"df-588d0530-5fab-490f-9a05-0b971be006f5\">\n",
              "  <button class=\"colab-df-quickchart\" onclick=\"quickchart('df-588d0530-5fab-490f-9a05-0b971be006f5')\"\n",
              "            title=\"Suggest charts\"\n",
              "            style=\"display:none;\">\n",
              "\n",
              "<svg xmlns=\"http://www.w3.org/2000/svg\" height=\"24px\"viewBox=\"0 0 24 24\"\n",
              "     width=\"24px\">\n",
              "    <g>\n",
              "        <path d=\"M19 3H5c-1.1 0-2 .9-2 2v14c0 1.1.9 2 2 2h14c1.1 0 2-.9 2-2V5c0-1.1-.9-2-2-2zM9 17H7v-7h2v7zm4 0h-2V7h2v10zm4 0h-2v-4h2v4z\"/>\n",
              "    </g>\n",
              "</svg>\n",
              "  </button>\n",
              "\n",
              "<style>\n",
              "  .colab-df-quickchart {\n",
              "      --bg-color: #E8F0FE;\n",
              "      --fill-color: #1967D2;\n",
              "      --hover-bg-color: #E2EBFA;\n",
              "      --hover-fill-color: #174EA6;\n",
              "      --disabled-fill-color: #AAA;\n",
              "      --disabled-bg-color: #DDD;\n",
              "  }\n",
              "\n",
              "  [theme=dark] .colab-df-quickchart {\n",
              "      --bg-color: #3B4455;\n",
              "      --fill-color: #D2E3FC;\n",
              "      --hover-bg-color: #434B5C;\n",
              "      --hover-fill-color: #FFFFFF;\n",
              "      --disabled-bg-color: #3B4455;\n",
              "      --disabled-fill-color: #666;\n",
              "  }\n",
              "\n",
              "  .colab-df-quickchart {\n",
              "    background-color: var(--bg-color);\n",
              "    border: none;\n",
              "    border-radius: 50%;\n",
              "    cursor: pointer;\n",
              "    display: none;\n",
              "    fill: var(--fill-color);\n",
              "    height: 32px;\n",
              "    padding: 0;\n",
              "    width: 32px;\n",
              "  }\n",
              "\n",
              "  .colab-df-quickchart:hover {\n",
              "    background-color: var(--hover-bg-color);\n",
              "    box-shadow: 0 1px 2px rgba(60, 64, 67, 0.3), 0 1px 3px 1px rgba(60, 64, 67, 0.15);\n",
              "    fill: var(--button-hover-fill-color);\n",
              "  }\n",
              "\n",
              "  .colab-df-quickchart-complete:disabled,\n",
              "  .colab-df-quickchart-complete:disabled:hover {\n",
              "    background-color: var(--disabled-bg-color);\n",
              "    fill: var(--disabled-fill-color);\n",
              "    box-shadow: none;\n",
              "  }\n",
              "\n",
              "  .colab-df-spinner {\n",
              "    border: 2px solid var(--fill-color);\n",
              "    border-color: transparent;\n",
              "    border-bottom-color: var(--fill-color);\n",
              "    animation:\n",
              "      spin 1s steps(1) infinite;\n",
              "  }\n",
              "\n",
              "  @keyframes spin {\n",
              "    0% {\n",
              "      border-color: transparent;\n",
              "      border-bottom-color: var(--fill-color);\n",
              "      border-left-color: var(--fill-color);\n",
              "    }\n",
              "    20% {\n",
              "      border-color: transparent;\n",
              "      border-left-color: var(--fill-color);\n",
              "      border-top-color: var(--fill-color);\n",
              "    }\n",
              "    30% {\n",
              "      border-color: transparent;\n",
              "      border-left-color: var(--fill-color);\n",
              "      border-top-color: var(--fill-color);\n",
              "      border-right-color: var(--fill-color);\n",
              "    }\n",
              "    40% {\n",
              "      border-color: transparent;\n",
              "      border-right-color: var(--fill-color);\n",
              "      border-top-color: var(--fill-color);\n",
              "    }\n",
              "    60% {\n",
              "      border-color: transparent;\n",
              "      border-right-color: var(--fill-color);\n",
              "    }\n",
              "    80% {\n",
              "      border-color: transparent;\n",
              "      border-right-color: var(--fill-color);\n",
              "      border-bottom-color: var(--fill-color);\n",
              "    }\n",
              "    90% {\n",
              "      border-color: transparent;\n",
              "      border-bottom-color: var(--fill-color);\n",
              "    }\n",
              "  }\n",
              "</style>\n",
              "\n",
              "  <script>\n",
              "    async function quickchart(key) {\n",
              "      const quickchartButtonEl =\n",
              "        document.querySelector('#' + key + ' button');\n",
              "      quickchartButtonEl.disabled = true;  // To prevent multiple clicks.\n",
              "      quickchartButtonEl.classList.add('colab-df-spinner');\n",
              "      try {\n",
              "        const charts = await google.colab.kernel.invokeFunction(\n",
              "            'suggestCharts', [key], {});\n",
              "      } catch (error) {\n",
              "        console.error('Error during call to suggestCharts:', error);\n",
              "      }\n",
              "      quickchartButtonEl.classList.remove('colab-df-spinner');\n",
              "      quickchartButtonEl.classList.add('colab-df-quickchart-complete');\n",
              "    }\n",
              "    (() => {\n",
              "      let quickchartButtonEl =\n",
              "        document.querySelector('#df-588d0530-5fab-490f-9a05-0b971be006f5 button');\n",
              "      quickchartButtonEl.style.display =\n",
              "        google.colab.kernel.accessAllowed ? 'block' : 'none';\n",
              "    })();\n",
              "  </script>\n",
              "</div>\n",
              "\n",
              "    </div>\n",
              "  </div>\n"
            ],
            "application/vnd.google.colaboratory.intrinsic+json": {
              "type": "dataframe",
              "variable_name": "df_cleaned_copy",
              "summary": "{\n  \"name\": \"df_cleaned_copy\",\n  \"rows\": 49582,\n  \"fields\": [\n    {\n      \"column\": \"review\",\n      \"properties\": {\n        \"dtype\": \"string\",\n        \"num_unique_values\": 49577,\n        \"samples\": [\n          \"sit enjoyable fast pace 45 mins rollroll country boy mat toby malone dream become sport star mat travel city pick cousin george damien robertson well plan anyway george involve gangster tiny john batchelor make delivery needle say mat get drag georges world think great mat teach george morals respect george teach mat relax enjoy life little toby damien well cast together outstanding jobevery character movie compliment well two cop great david ngoombujarra bring great comic relief movie tiny play likable gangster remind one favourite character pando two handsone things like roll showcased cities grow live 20 years perth fremantle good see sight landmarks grow especially old ferris wheelthis rock n roll\",\n          \"twenty years ago five years old boy michael hawthorne witness father kill mother axe empty road commit suicide later present days michael gordon currie invite girlfriend peg stacy grant best friends chris myc agnew jennifer emmanuelle vaugier lisa ann kelly benson ned brendon beiser mitch maldive phillip rhys trish rachel hayward spend halloween country grandparents farm ask friends wear costume would represent greatest innermost fear together indian friend crow byron chief moon would perform ancient indian celebration use carve wooden dummy morty jon fedele would eliminate fear forever greatest fear michael become serial killer like father something go wrong morty turn father kill friendsthe fear resurrection disappoint pointless slash movie use interest concept eliminate greatest innermost fear friend grow messy screenplay full clich\\u00e9s exaggerate performances like example ms betsy palmer others weak general act good unfortunately explanation dummy bring live spite surround close friends group feel pain sorrow one die lowpace along fifty minutes could use build better dramatic situation end michael show charm father interest notice along story know whether previous reference edit dvd release brazil 87 minutes run time special effect reasonable bmovie vote fourtitle brazil fear 2 uma noite de halloween fear 2 one night halloween\",\n          \"september 2003 36yearold jonny kennedy die terrible genetic condition call dystrophic epidermolysis bullosa eb mean skin literally fell slightest touch leave body cover agonise sores lead final fight skin cancer last months jonny decide work filmmaker patrick collerton document life death result film first broadcast march uplift confound provocatively humorous story singular man shy away grim reality eb film also celebration life live full produce direct patrick collerton first show march 2004 boy whose skin fell become talk documentary year attract nearly five million viewers screen public donate half million pound jonnys charity debra jonny kennedy memorial fund set raise another half million aim ensure jonny kennedy leave one million pound legacy\"\n        ],\n        \"semantic_type\": \"\",\n        \"description\": \"\"\n      }\n    },\n    {\n      \"column\": \"sentiment\",\n      \"properties\": {\n        \"dtype\": \"category\",\n        \"num_unique_values\": 2,\n        \"samples\": [\n          \"negative\",\n          \"positive\"\n        ],\n        \"semantic_type\": \"\",\n        \"description\": \"\"\n      }\n    }\n  ]\n}"
            }
          },
          "metadata": {},
          "execution_count": 75
        }
      ]
    },
    {
      "cell_type": "code",
      "source": [
        "from sklearn.preprocessing import LabelEncoder\n",
        "encoder = LabelEncoder()\n",
        "y= encoder.fit_transform(df_cleaned_copy['sentiment'])\n",
        "y"
      ],
      "metadata": {
        "colab": {
          "base_uri": "https://localhost:8080/"
        },
        "id": "02H_sppHhr2B",
        "outputId": "73c2bfe5-b7ec-4500-d22b-0137b347b49b"
      },
      "execution_count": null,
      "outputs": [
        {
          "output_type": "execute_result",
          "data": {
            "text/plain": [
              "array([1, 1, 1, ..., 0, 0, 0])"
            ]
          },
          "metadata": {},
          "execution_count": 76
        }
      ]
    },
    {
      "cell_type": "markdown",
      "source": [
        "## Bag of Words"
      ],
      "metadata": {
        "id": "BHLaOyV4VBSu"
      }
    },
    {
      "cell_type": "code",
      "source": [
        "from sklearn.pipeline import Pipeline\n",
        "from sklearn.feature_extraction.text import CountVectorizer\n",
        "cv=CountVectorizer()\n",
        "x_vector=cv.fit_transform(X)\n",
        "print(x_vector.shape)\n"
      ],
      "metadata": {
        "colab": {
          "base_uri": "https://localhost:8080/"
        },
        "id": "4dyu0dVzUeLa",
        "outputId": "50b80d37-772b-41ff-9174-1fc8f483c1e2"
      },
      "execution_count": null,
      "outputs": [
        {
          "output_type": "stream",
          "name": "stdout",
          "text": [
            "(49582, 208007)\n"
          ]
        }
      ]
    },
    {
      "cell_type": "code",
      "source": [
        "cv.vocabulary_.get(u'algorithm')"
      ],
      "metadata": {
        "colab": {
          "base_uri": "https://localhost:8080/"
        },
        "id": "vZn9CcmLf7bD",
        "outputId": "1a3a8f6e-8ae7-4516-ca7d-04e10d9a1b70"
      },
      "execution_count": null,
      "outputs": [
        {
          "output_type": "execute_result",
          "data": {
            "text/plain": [
              "8923"
            ]
          },
          "metadata": {},
          "execution_count": 78
        }
      ]
    },
    {
      "cell_type": "markdown",
      "source": [
        "#Train Test split"
      ],
      "metadata": {
        "id": "G3Vkzt7lM0H7"
      }
    },
    {
      "cell_type": "code",
      "source": [
        "from sklearn.model_selection import train_test_split\n",
        "x_train , x_test, y_train, y_test = train_test_split(x_vector, y, test_size =0.20 , random_state=42)\n",
        "print(f\"x_train {x_train.shape}\")\n",
        "print(f\"x_test {x_test.shape}\")\n",
        "print(f\"y_train {y_train.shape}\")\n",
        "print(f\"y_test {y_test.shape}\")\n"
      ],
      "metadata": {
        "colab": {
          "base_uri": "https://localhost:8080/"
        },
        "id": "TwnBSD-LMzSe",
        "outputId": "4a1680dd-3622-4634-df35-ee507940aee7"
      },
      "execution_count": null,
      "outputs": [
        {
          "output_type": "stream",
          "name": "stdout",
          "text": [
            "x_train (39665, 208007)\n",
            "x_test (9917, 208007)\n",
            "y_train (39665,)\n",
            "y_test (9917,)\n"
          ]
        }
      ]
    },
    {
      "cell_type": "code",
      "source": [
        "# print(x_train.toarray()[:5])"
      ],
      "metadata": {
        "id": "TQUapukfPakX"
      },
      "execution_count": null,
      "outputs": []
    },
    {
      "cell_type": "markdown",
      "source": [
        "# MODEL FIT"
      ],
      "metadata": {
        "id": "zrEHXej4BAcF"
      }
    },
    {
      "cell_type": "code",
      "source": [
        "\n",
        "from sklearn.naive_bayes import MultinomialNB\n",
        "clf = MultinomialNB().fit(x_train, y_train)"
      ],
      "metadata": {
        "id": "dgPHznjZjd2S"
      },
      "execution_count": null,
      "outputs": []
    },
    {
      "cell_type": "markdown",
      "source": [
        "# MODEL PREDICT"
      ],
      "metadata": {
        "id": "7S5HV-kDBEz7"
      }
    },
    {
      "cell_type": "code",
      "source": [
        "y_pred = clf.predict(x_test)"
      ],
      "metadata": {
        "id": "SE7Us_28jlI8"
      },
      "execution_count": null,
      "outputs": []
    },
    {
      "cell_type": "markdown",
      "source": [
        "MODEL SCORE"
      ],
      "metadata": {
        "id": "ZSrmYwBBBHLV"
      }
    },
    {
      "cell_type": "code",
      "source": [
        "from sklearn.metrics import accuracy_score, classification_report, confusion_matrix"
      ],
      "metadata": {
        "id": "FNv_y3xo6EuO"
      },
      "execution_count": null,
      "outputs": []
    },
    {
      "cell_type": "code",
      "source": [
        "accuracy_score= accuracy_score(y_test, y_pred)\n",
        "class_report = classification_report(y_test, y_pred)\n",
        "confision_matrix = confusion_matrix(y_test , y_pred)"
      ],
      "metadata": {
        "id": "Umt92ze76a-u"
      },
      "execution_count": null,
      "outputs": []
    },
    {
      "cell_type": "code",
      "source": [
        "accuracy_score"
      ],
      "metadata": {
        "colab": {
          "base_uri": "https://localhost:8080/"
        },
        "id": "_P0R69w16mZ5",
        "outputId": "9b3d16be-f397-46c4-bc9d-28542eb0894a"
      },
      "execution_count": null,
      "outputs": [
        {
          "output_type": "execute_result",
          "data": {
            "text/plain": [
              "0.8570132096400122"
            ]
          },
          "metadata": {},
          "execution_count": 94
        }
      ]
    },
    {
      "cell_type": "code",
      "source": [
        "print(class_report)"
      ],
      "metadata": {
        "colab": {
          "base_uri": "https://localhost:8080/"
        },
        "id": "vZ6nw8X36nef",
        "outputId": "5eef1a1d-3ae1-4665-cb05-f7a362a331e7"
      },
      "execution_count": null,
      "outputs": [
        {
          "output_type": "stream",
          "name": "stdout",
          "text": [
            "              precision    recall  f1-score   support\n",
            "\n",
            "           0       0.85      0.87      0.86      4939\n",
            "           1       0.87      0.84      0.86      4978\n",
            "\n",
            "    accuracy                           0.86      9917\n",
            "   macro avg       0.86      0.86      0.86      9917\n",
            "weighted avg       0.86      0.86      0.86      9917\n",
            "\n"
          ]
        }
      ]
    },
    {
      "cell_type": "code",
      "source": [
        "confision_matrix"
      ],
      "metadata": {
        "colab": {
          "base_uri": "https://localhost:8080/"
        },
        "id": "eyojJ1t99bIr",
        "outputId": "ad95b715-dcd6-4bab-d0fc-950d2dd6684b"
      },
      "execution_count": null,
      "outputs": [
        {
          "output_type": "execute_result",
          "data": {
            "text/plain": [
              "array([[4311,  628],\n",
              "       [ 790, 4188]])"
            ]
          },
          "metadata": {},
          "execution_count": 98
        }
      ]
    },
    {
      "cell_type": "markdown",
      "source": [
        "---\n",
        "\n",
        "Thanks a Lot\n",
        "\n",
        "---"
      ],
      "metadata": {
        "id": "44Pm30F5Ppua"
      }
    }
  ]
}